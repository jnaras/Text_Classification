{
 "cells": [
  {
   "cell_type": "code",
   "execution_count": 75,
   "metadata": {
    "collapsed": false
   },
   "outputs": [
    {
     "name": "stdout",
     "output_type": "stream",
     "text": [
      "Using matplotlib backend: MacOSX\n"
     ]
    }
   ],
   "source": [
    "%matplotlib"
   ]
  },
  {
   "cell_type": "code",
   "execution_count": 76,
   "metadata": {
    "collapsed": true
   },
   "outputs": [],
   "source": [
    "\n",
    "import seaborn as sns\n",
    "from matplotlib import pyplot as plt\n",
    "import matplotlib as mpl\n",
    "import numpy as np\n",
    "%matplotlib inline\n",
    "sns.set_palette('colorblind')\n",
    "sns.set_style('white')"
   ]
  },
  {
   "cell_type": "code",
   "execution_count": 77,
   "metadata": {
    "collapsed": true
   },
   "outputs": [],
   "source": [
    "import pandas as pd\n",
    "import nltk\n",
    "import string\n",
    "\n",
    "from sklearn.feature_extraction.text import CountVectorizer\n",
    "from sklearn.preprocessing import LabelEncoder\n",
    "from sklearn.svm import LinearSVC\n",
    "from sklearn.cross_validation import StratifiedShuffleSplit\n",
    "from sklearn.feature_extraction.stop_words import ENGLISH_STOP_WORDS"
   ]
  },
  {
   "cell_type": "code",
   "execution_count": 78,
   "metadata": {
    "collapsed": false
   },
   "outputs": [],
   "source": [
    "from nltk.corpus import brown"
   ]
  },
  {
   "cell_type": "code",
   "execution_count": 79,
   "metadata": {
    "collapsed": true
   },
   "outputs": [],
   "source": [
    "from collections import Counter"
   ]
  },
  {
   "cell_type": "code",
   "execution_count": 80,
   "metadata": {
    "collapsed": false,
    "scrolled": true
   },
   "outputs": [],
   "source": [
    "def get_data():\n",
    "    df = pd.read_csv('newtrain.csv')\n",
    "    return df"
   ]
  },
  {
   "cell_type": "code",
   "execution_count": 81,
   "metadata": {
    "collapsed": false
   },
   "outputs": [],
   "source": [
    "def add_features(df):\n",
    "\n",
    "    #tokenize text\n",
    "    pattern = r'''(?x)    # set flag to allow verbose regexps\n",
    "         ([A-Z]\\.)+        # abbreviations, e.g. U.S.A.\n",
    "       | \\w+([-']\\w+)*        # words with optional internal hyphens\n",
    "       | \\$?\\d+(\\.\\d+)?%?  # currency and percentages, e.g. $12.40, 82%\n",
    "       | \\.\\.\\.            # ellipsis\n",
    "       | [.,;\"?():-_`]+  # these are separate tokens\n",
    "     '''\n",
    "\n",
    "    tokenize = lambda text: nltk.regexp_tokenize(text, pattern)\n",
    "    df['Tokens'] = df['Text'].apply(tokenize)\n",
    "    \n",
    "    def pos_tag(text):\n",
    "        tuples = nltk.pos_tag(text)\n",
    "        tags = []\n",
    "        for t in tuples:\n",
    "            tags.append(t[1])\n",
    "        return tags\n",
    "    def get_nouns(text):\n",
    "        wnlemmatizer = nltk.WordNetLemmatizer()\n",
    "        tuples = nltk.pos_tag(text)\n",
    "        tags = []\n",
    "        for t in tuples:\n",
    "            if t[1][0] == 'N':\n",
    "                tags.append(wnlemmatizer.lemmatize(t[0]))\n",
    "        return tags\n",
    "    df['Nouns'] = df['Tokens'].apply(get_nouns)\n",
    "    df['POS'] = df['Tokens'].apply(pos_tag)\n",
    "    make_string = lambda a: ' '.join(i for i in a)\n",
    "    df['Nouns'] = df['Nouns'].apply(make_string)\n",
    "    df['POS'] = df['POS'].apply(make_string)\n",
    "    return df"
   ]
  },
  {
   "cell_type": "code",
   "execution_count": 82,
   "metadata": {
    "collapsed": false,
    "scrolled": true
   },
   "outputs": [
    {
     "data": {
      "text/html": [
       "<div>\n",
       "<table border=\"1\" class=\"dataframe\">\n",
       "  <thead>\n",
       "    <tr style=\"text-align: right;\">\n",
       "      <th></th>\n",
       "      <th>Category</th>\n",
       "      <th>Text</th>\n",
       "      <th>Tokens</th>\n",
       "      <th>Nouns</th>\n",
       "      <th>POS</th>\n",
       "    </tr>\n",
       "  </thead>\n",
       "  <tbody>\n",
       "    <tr>\n",
       "      <th>0</th>\n",
       "      <td>5</td>\n",
       "      <td>why are yawns contagious? when people yawn</td>\n",
       "      <td>[why, are, yawns, contagious, ?, when, people,...</td>\n",
       "      <td>yawn people</td>\n",
       "      <td>WRB VBP NNS JJ . WRB NNS VBP</td>\n",
       "    </tr>\n",
       "    <tr>\n",
       "      <th>1</th>\n",
       "      <td>6</td>\n",
       "      <td>what is trans fat? how to reduce that? i heard...</td>\n",
       "      <td>[what, is, trans, fat, ?, how, to, reduce, tha...</td>\n",
       "      <td>trans tras body food</td>\n",
       "      <td>WP VBZ NNS JJ . WRB TO VB IN . PRP VBP IN NNS ...</td>\n",
       "    </tr>\n",
       "    <tr>\n",
       "      <th>2</th>\n",
       "      <td>1</td>\n",
       "      <td>roth ira vs 401k? what is the difference betwe...</td>\n",
       "      <td>[roth, ira, vs, 401k, ?, what, is, the, differ...</td>\n",
       "      <td>roth ira v difference roth ira prefer</td>\n",
       "      <td>NN NN NNS CD . WP VBZ DT NN IN NN NN CC CD . W...</td>\n",
       "    </tr>\n",
       "    <tr>\n",
       "      <th>3</th>\n",
       "      <td>1</td>\n",
       "      <td>how many planes fedex has? i heard that it is ...</td>\n",
       "      <td>[how, many, planes, fedex, has, ?, i, heard, t...</td>\n",
       "      <td>plane fedex airline world</td>\n",
       "      <td>WRB JJ NNS NN VBZ . PRP VBP IN PRP VBZ DT JJS ...</td>\n",
       "    </tr>\n",
       "    <tr>\n",
       "      <th>4</th>\n",
       "      <td>2</td>\n",
       "      <td>what is the best photo slideshow creation appl...</td>\n",
       "      <td>[what, is, the, best, photo, slideshow, creati...</td>\n",
       "      <td>photo slideshow creation application photo sli...</td>\n",
       "      <td>WP VBZ DT JJS NN NN NN NN WP VBZ DT JJS NN NN ...</td>\n",
       "    </tr>\n",
       "  </tbody>\n",
       "</table>\n",
       "</div>"
      ],
      "text/plain": [
       "   Category                                               Text  \\\n",
       "0         5         why are yawns contagious? when people yawn   \n",
       "1         6  what is trans fat? how to reduce that? i heard...   \n",
       "2         1  roth ira vs 401k? what is the difference betwe...   \n",
       "3         1  how many planes fedex has? i heard that it is ...   \n",
       "4         2  what is the best photo slideshow creation appl...   \n",
       "\n",
       "                                              Tokens  \\\n",
       "0  [why, are, yawns, contagious, ?, when, people,...   \n",
       "1  [what, is, trans, fat, ?, how, to, reduce, tha...   \n",
       "2  [roth, ira, vs, 401k, ?, what, is, the, differ...   \n",
       "3  [how, many, planes, fedex, has, ?, i, heard, t...   \n",
       "4  [what, is, the, best, photo, slideshow, creati...   \n",
       "\n",
       "                                               Nouns  \\\n",
       "0                                        yawn people   \n",
       "1                               trans tras body food   \n",
       "2              roth ira v difference roth ira prefer   \n",
       "3                          plane fedex airline world   \n",
       "4  photo slideshow creation application photo sli...   \n",
       "\n",
       "                                                 POS  \n",
       "0                       WRB VBP NNS JJ . WRB NNS VBP  \n",
       "1  WP VBZ NNS JJ . WRB TO VB IN . PRP VBP IN NNS ...  \n",
       "2  NN NN NNS CD . WP VBZ DT NN IN NN NN CC CD . W...  \n",
       "3  WRB JJ NNS NN VBZ . PRP VBP IN PRP VBZ DT JJS ...  \n",
       "4  WP VBZ DT JJS NN NN NN NN WP VBZ DT JJS NN NN ...  "
      ]
     },
     "execution_count": 82,
     "metadata": {},
     "output_type": "execute_result"
    }
   ],
   "source": [
    "df = get_data()\n",
    "df = add_features(df)\n",
    "df.head()"
   ]
  },
  {
   "cell_type": "code",
   "execution_count": 67,
   "metadata": {
    "collapsed": true
   },
   "outputs": [],
   "source": [
    "#vectorize data\n",
    "#turns words into a list of vectors - vector length is the total number of words\n",
    "#Vector elements correspond to 1 word (1/0 if word is/not present in the current item)\n",
    "def get_labels_features(df, max_features, ):\n",
    "    vec = CountVectorizer()\n",
    "    vec_tar = LabelEncoder()\n",
    "    \n",
    "    counts = vec.fit_transform(df['Text'])\n",
    "    print(\"Counts shape: \")\n",
    "    nouns = vec.fit_transform(df['Nouns'])\n",
    "    pos = vec.fit_transform(df['POS'])\n",
    "    \n",
    "    #To combine or not to combine\n",
    "    return vec_tar, "
   ]
  },
  {
   "cell_type": "code",
   "execution_count": 68,
   "metadata": {
    "collapsed": false
   },
   "outputs": [
    {
     "name": "stdout",
     "output_type": "stream",
     "text": [
      "['-NONE-', 'LS', 'RBR', 'RBS', 'PDT', 'DT', '.', 'PRP', 'NN', 'PRP$', 'JJR', 'JJS', 'JJ', 'VB', 'TO', ':', 'VBD', 'RP', 'IN', 'WRB', 'RB', 'NNP', 'EX', 'NNS', 'MD', 'WP$', 'CD', '``', 'CC', 'WP', 'VBG', 'VBN', 'WDT', 'VBP', 'VBZ']\n"
     ]
    }
   ],
   "source": [
    "pos_set = set()\n",
    "for item in df['POS']:\n",
    "    item_set = set(item)\n",
    "    #print(item_set)\n",
    "    pos_set = pos_set.union(set(item))\n",
    "#print(pos_set)\n",
    "pos_set = list(pos_set)\n",
    "print(pos_set)"
   ]
  },
  {
   "cell_type": "code",
   "execution_count": 69,
   "metadata": {
    "collapsed": false
   },
   "outputs": [],
   "source": [
    "pos_freqs = []\n",
    "for item in df['POS']:\n",
    "    v = []\n",
    "    c = Counter(item)\n",
    "    for tag in pos_set:\n",
    "        freq = float(c[tag]) / len(item)\n",
    "        v.append(freq)\n",
    "    pos_freqs.append(v)\n",
    "pos_freqs = np.array(pos_freqs)"
   ]
  },
  {
   "cell_type": "code",
   "execution_count": 70,
   "metadata": {
    "collapsed": false,
    "scrolled": false
   },
   "outputs": [
    {
     "name": "stdout",
     "output_type": "stream",
     "text": [
      "(2698, 35)\n"
     ]
    }
   ],
   "source": [
    "print(pos_freqs.shape)"
   ]
  },
  {
   "cell_type": "code",
   "execution_count": 57,
   "metadata": {
    "collapsed": true
   },
   "outputs": [
    {
     "data": {
      "text/plain": [
       "array([[ 0.        ,  0.        ,  0.        ,  0.        ,  0.        ,\n",
       "         0.        ,  0.14285714,  0.        ,  0.28571429,  0.        ],\n",
       "       [ 0.        ,  0.        ,  0.06666667,  0.        ,  0.        ,\n",
       "         0.1       ,  0.1       ,  0.        ,  0.06666667,  0.1       ],\n",
       "       [ 0.        ,  0.        ,  0.28571429,  0.        ,  0.        ,\n",
       "         0.04761905,  0.04761905,  0.        ,  0.        ,  0.        ],\n",
       "       [ 0.        ,  0.0625    ,  0.1875    ,  0.        ,  0.        ,\n",
       "         0.125     ,  0.0625    ,  0.        ,  0.0625    ,  0.125     ],\n",
       "       [ 0.        ,  0.125     ,  0.5       ,  0.        ,  0.        ,\n",
       "         0.125     ,  0.        ,  0.        ,  0.        ,  0.        ],\n",
       "       [ 0.        ,  0.        ,  0.125     ,  0.        ,  0.25      ,\n",
       "         0.        ,  0.125     ,  0.        ,  0.        ,  0.125     ],\n",
       "       [ 0.        ,  0.07692308,  0.19230769,  0.07692308,  0.        ,\n",
       "         0.07692308,  0.11538462,  0.        ,  0.07692308,  0.07692308],\n",
       "       [ 0.02272727,  0.02272727,  0.34090909,  0.02272727,  0.02272727,\n",
       "         0.09090909,  0.09090909,  0.        ,  0.02272727,  0.04545455],\n",
       "       [ 0.        ,  0.        ,  0.10526316,  0.05263158,  0.05263158,\n",
       "         0.05263158,  0.        ,  0.        ,  0.05263158,  0.10526316],\n",
       "       [ 0.01639344,  0.        ,  0.26229508,  0.03278689,  0.06557377,\n",
       "         0.01639344,  0.04918033,  0.        ,  0.03278689,  0.04918033]])"
      ]
     },
     "execution_count": 57,
     "metadata": {},
     "output_type": "execute_result"
    }
   ],
   "source": [
    "pos_freqs[:10, :10]"
   ]
  },
  {
   "cell_type": "code",
   "execution_count": 29,
   "metadata": {
    "collapsed": false,
    "scrolled": true
   },
   "outputs": [
    {
     "name": "stdout",
     "output_type": "stream",
     "text": [
      "(2698, 6176)\n"
     ]
    },
    {
     "data": {
      "text/plain": [
       "scipy.sparse.csr.csr_matrix"
      ]
     },
     "execution_count": 29,
     "metadata": {},
     "output_type": "execute_result"
    }
   ],
   "source": [
    "counts = vec.fit_transform(df['Text']) \n",
    "print(counts.shape)\n",
    "type(counts)"
   ]
  },
  {
   "cell_type": "code",
   "execution_count": 71,
   "metadata": {
    "collapsed": false
   },
   "outputs": [
    {
     "name": "stdout",
     "output_type": "stream",
     "text": [
      "(2698, 3758)\n"
     ]
    }
   ],
   "source": [
    "nouns = vec.fit_transform(df['Nouns'])\n",
    "nouns_array = nouns.toarray()\n",
    "print (nouns.shape)"
   ]
  },
  {
   "cell_type": "code",
   "execution_count": 81,
   "metadata": {
    "collapsed": false
   },
   "outputs": [
    {
     "data": {
      "text/plain": [
       "(2698, 1000)"
      ]
     },
     "execution_count": 81,
     "metadata": {},
     "output_type": "execute_result"
    }
   ],
   "source": [
    "counts_array = counts.toarray()\n",
    "counts_array.shape"
   ]
  },
  {
   "cell_type": "code",
   "execution_count": 72,
   "metadata": {
    "collapsed": false
   },
   "outputs": [
    {
     "data": {
      "text/plain": [
       "(2698, 3793)"
      ]
     },
     "execution_count": 72,
     "metadata": {},
     "output_type": "execute_result"
    }
   ],
   "source": [
    "combined = np.hstack((nouns_array, pos_freqs))\n",
    "combined.shape"
   ]
  },
  {
   "cell_type": "code",
   "execution_count": 73,
   "metadata": {
    "collapsed": false
   },
   "outputs": [
    {
     "data": {
      "text/plain": [
       "(2698,)"
      ]
     },
     "execution_count": 73,
     "metadata": {},
     "output_type": "execute_result"
    }
   ],
   "source": [
    "targets = vec_tar.fit_transform(df['Category'])\n",
    "targets.shape"
   ]
  },
  {
   "cell_type": "code",
   "execution_count": 13,
   "metadata": {
    "collapsed": false
   },
   "outputs": [
    {
     "data": {
      "text/plain": [
       "[<matplotlib.lines.Line2D at 0x10bc62490>,\n",
       " <matplotlib.lines.Line2D at 0x10bbe3b50>,\n",
       " <matplotlib.lines.Line2D at 0x10bbe3dd0>]"
      ]
     },
     "execution_count": 13,
     "metadata": {},
     "output_type": "execute_result"
    },
    {
     "data": {
      "image/png": "[encoded data removed]",
      "text/plain": [
       "<matplotlib.figure.Figure at 0x10bc62550>"
      ]
     },
     "metadata": {},
     "output_type": "display_data"
    }
   ],
   "source": [
    "#each color is a question, x axis is the words, y axis is the counts (like histogram)\n",
    "plt.plot(counts[:3,:].toarray().T)"
   ]
  },
  {
   "cell_type": "code",
   "execution_count": 14,
   "metadata": {
    "collapsed": true
   },
   "outputs": [
    {
     "ename": "NameError",
     "evalue": "name 'itrg' is not defined",
     "output_type": "error",
     "traceback": [
      "\u001b[0;31m---------------------------------------------------------------------------\u001b[0m",
      "\u001b[0;31mNameError\u001b[0m                                 Traceback (most recent call last)",
      "\u001b[0;32m<ipython-input-14-c9775351f940>\u001b[0m in \u001b[0;36m<module>\u001b[0;34m()\u001b[0m\n\u001b[0;32m----> 1\u001b[0;31m \u001b[0mcounts\u001b[0m\u001b[0;34m[\u001b[0m\u001b[0mtargets\u001b[0m \u001b[0;34m==\u001b[0m \u001b[0mitrg\u001b[0m\u001b[0;34m,\u001b[0m\u001b[0;34m:\u001b[0m\u001b[0;34m]\u001b[0m\u001b[0;34m.\u001b[0m\u001b[0msum\u001b[0m\u001b[0;34m(\u001b[0m\u001b[0;36m0\u001b[0m\u001b[0;34m)\u001b[0m\u001b[0;34m\u001b[0m\u001b[0m\n\u001b[0m",
      "\u001b[0;31mNameError\u001b[0m: name 'itrg' is not defined"
     ]
    }
   ],
   "source": [
    "counts[targets == itrg,:].sum(0)"
   ]
  },
  {
   "cell_type": "code",
   "execution_count": 15,
   "metadata": {
    "collapsed": true
   },
   "outputs": [],
   "source": [
    "top_words = {}\n",
    "for itrg in np.unique(targets):\n",
    "    loc = vec_tar.classes_[itrg]\n",
    "    # Pull rows for the current category, sum all rows (each element is a word)\n",
    "    icounts = counts[targets == itrg, :].sum(0).squeeze() \n",
    "    \n",
    "    # Which word counts occured >5 times\n",
    "    mask_top_words = icounts > 5\n",
    "    \n",
    "    # Turns vectors back into actual words (inverse transform - magical!)\n",
    "    top_words[loc] = vec.inverse_transform(mask_top_words)[0]"
   ]
  },
  {
   "cell_type": "code",
   "execution_count": 16,
   "metadata": {
    "collapsed": true
   },
   "outputs": [
    {
     "data": {
      "text/plain": [
       "{1: array(['401k', 'account', 'address', 'amp', 'answer', 'answers', 'area',\n",
       "        'ask', 'bad', 'bank', 'best', 'better', 'books', 'boy', 'boyfriend',\n",
       "        'br', 'business', 'buy', 'california', 'card', 'cards', 'cash',\n",
       "        'change', 'christmas', 'com', 'come', 'company', 'cost', 'country',\n",
       "        'credit', 'day', 'did', 'difference', 'different', 'does', 'don',\n",
       "        'dont', 'email', 'english', 'free', 'friend', 'friends', 'getting',\n",
       "        'girl', 'girls', 'going', 'good', 'got', 'great', 'gt', 'guy',\n",
       "        'guys', 'help', 'home', 'house', 'idea', 'ideas', 'im', 'income',\n",
       "        'information', 'ira', 'job', 'just', 'kids', 'kind', 'know', 'let',\n",
       "        'life', 'like', 'list', 'live', 'long', 'look', 'looking', 'love',\n",
       "        'lt', 'mail', 'make', 'man', 'market', 'mean', 'meaning', 'men',\n",
       "        'money', 'month', 'mortgage', 'need', 'new', 'number', 'old',\n",
       "        'online', 'open', 'pay', 'people', 'person', 'phone', 'place',\n",
       "        'points', 'question', 'questions', 'real', 'really', 'rent',\n",
       "        'santa', 'say', 'sell', 'send', 'sending', 'service', 'sex', 'site',\n",
       "        'small', 'stand', 'start', 'states', 'stock', 'tax', 'tell',\n",
       "        'things', 'think', 'time', 'today', 'true', 'trying', 'united',\n",
       "        'usa', 'using', 've', 'want', 'way', 'web', 'website', 'women',\n",
       "        'wondering', 'work', 'world', 'xa', 'xd', 'yahoo', 'year', 'years'], \n",
       "       dtype='<U19'),\n",
       " 2: array(['access', 'account', 'address', 'amp', 'answers', 'ask', 'best',\n",
       "        'beta', 'better', 'browser', 'buy', 'cable', 'capture', 'card',\n",
       "        'cd', 'change', 'code', 'com', 'computer', 'computers',\n",
       "        'connection', 'cost', 'create', 'data', 'desktop', 'difference',\n",
       "        'different', 'disk', 'does', 'doesn', 'download', 'drive', 'dsl',\n",
       "        'dvd', 'email', 'engine', 'file', 'files', 'free', 'game', 'good',\n",
       "        'google', 'hard', 'help', 'http', 'install', 'installed',\n",
       "        'internet', 'java', 'just', 'know', 'laptop', 'learn', 'like',\n",
       "        'line', 'linux', 'looking', 'lt', 'mac', 'machine', 'mail', 'make',\n",
       "        'microsoft', 'modem', 'music', 'need', 'network', 'new', 'old',\n",
       "        'online', 'os', 'page', 'password', 'pc', 'people', 'photo',\n",
       "        'photos', 'php', 'play', 'player', 'ports', 'possible', 'printer',\n",
       "        'program', 'programming', 'project', 'ram', 'right', 'router',\n",
       "        'search', 'send', 'server', 'service', 'set', 'site', 'sites',\n",
       "        'software', 'start', 'tell', 'think', 'time', 'use', 'used',\n",
       "        'users', 'using', 've', 'version', 'video', 'videos', 'virus',\n",
       "        'want', 'way', 'web', 'website', 'windows', 'wireless', 'work',\n",
       "        'www', 'xa', 'xp', 'yahoo'], \n",
       "       dtype='<U19'),\n",
       " 3: array(['american', 'amp', 'artist', 'band', 'best', 'br', 'cartoon', 'cd',\n",
       "        'christmas', 'come', 'did', 'die', 'does', 'don', 'download', 'dvd',\n",
       "        'episode', 'favorite', 'figure', 'film', 'free', 'going', 'good',\n",
       "        'gt', 'heard', 'hold', 'just', 'know', 'like', 'listen', 'looking',\n",
       "        'love', 'lt', 'lyrics', 'magazine', 'mean', 'movie', 'movies',\n",
       "        'music', 'need', 'new', 'old', 'people', 'really', 'remember',\n",
       "        'riddle', 'rock', 'series', 'singer', 'song', 'star', 'tell',\n",
       "        'think', 'time', 'tv', 'want', 'website', 'xa', 'xd', 'yahoo',\n",
       "        'year', 'years'], \n",
       "       dtype='<U19'),\n",
       " 4: array(['alot', 'anymore', 'ask', 'asked', 'bad', 'believe', 'best', 'boy',\n",
       "        'boyfriend', 'break', 'christmas', 'come', 'date', 'dating', 'day',\n",
       "        'did', 'does', 'doesn', 'don', 'dont', 'end', 'ex', 'family',\n",
       "        'feel', 'friend', 'friends', 'gay', 'girl', 'girlfriend', 'girls',\n",
       "        'going', 'good', 'got', 'guy', 'guys', 'happy', 'having', 'help',\n",
       "        'husband', 'im', 'just', 'know', 'life', 'like', 'likes', 'long',\n",
       "        'looking', 'lot', 'love', 'loves', 'make', 'man', 'marriage',\n",
       "        'married', 'mean', 'men', 'met', 'month', 'months', 'mother',\n",
       "        'need', 'new', 'nice', 'old', 'online', 'people', 'person',\n",
       "        'really', 'relationship', 'say', 'says', 'sex', 'stop', 'talk',\n",
       "        'tell', 'things', 'think', 'time', 'true', 'try', 'ur', 've',\n",
       "        'want', 'way', 'wife', 'woman', 'women', 'work', 'wrong', 'year',\n",
       "        'years'], \n",
       "       dtype='<U19'),\n",
       " 5: array(['best', 'book', 'chuck', 'college', 'come', 'degree', 'did', 'does',\n",
       "        'education', 'english', 'good', 'help', 'high', 'history', 'know',\n",
       "        'language', 'like', 'mean', 'need', 'people', 'school', 'schools',\n",
       "        'study', 'think', 'wood', 'word', 'words', 'world', 'xa', 'year'], \n",
       "       dtype='<U19'),\n",
       " 6: array(['away', 'bad', 'best', 'blood', 'body', 'causes', 'cold', 'day',\n",
       "        'diet', 'does', 'don', 'feel', 'fight', 'good', 'health', 'help',\n",
       "        'hiv', 'just', 'know', 'like', 'long', 'make', 'normal', 'old',\n",
       "        'pain', 'people', 'person', 'rid', 'sex', 'smoking', 'surgery',\n",
       "        'time', 'use', 've', 'way', 'weight', 'xa'], \n",
       "       dtype='<U19'),\n",
       " 7: array(['amp', 'come', 'did', 'does', 'earth', 'gas', 'know', 'life',\n",
       "        'make', 'need', 'possible', 'really', 'tell', 'theory', 'time',\n",
       "        'water', 'world', 'xa'], \n",
       "       dtype='<U19')}"
      ]
     },
     "execution_count": 16,
     "metadata": {},
     "output_type": "execute_result"
    }
   ],
   "source": [
    "top_words\n"
   ]
  },
  {
   "cell_type": "code",
   "execution_count": 17,
   "metadata": {
    "collapsed": true
   },
   "outputs": [],
   "source": [
    "#keep words that are unique to that category\n",
    "unique_words = {}\n",
    "for cat, words in zip(top_words.keys(), top_words.values()):\n",
    "    others = top_words.copy()\n",
    "    others.pop(cat)\n",
    "    unique_words[cat] = [wrd for wrd in top_words[cat]\n",
    "                         if wrd not in np.hstack(others.values())]"
   ]
  },
  {
   "cell_type": "code",
   "execution_count": null,
   "metadata": {
    "collapsed": true
   },
   "outputs": [],
   "source": []
  },
  {
   "cell_type": "code",
   "execution_count": 34,
   "metadata": {
    "collapsed": false
   },
   "outputs": [
    {
     "name": "stdout",
     "output_type": "stream",
     "text": [
      "0.537777777778\n"
     ]
    }
   ],
   "source": [
    "#try SVC\n",
    "mod = LinearSVC(C=.1)\n",
    "cv = StratifiedShuffleSplit(targets, n_iter=10, test_size=.1)\n",
    "\n",
    "#coefs = []\n",
    "scores = []\n",
    "for tr, tt in cv:\n",
    "    mod.fit(nouns[tr], targets[tr])\n",
    "    #coefs.append(mod.coef_)\n",
    "    scores.append(mod.score(nouns[tt], targets[tt]))\n",
    "#coefs = np.array(coefs).mean(0)\n",
    "print(np.mean(scores))"
   ]
  },
  {
   "cell_type": "code",
   "execution_count": 74,
   "metadata": {
    "collapsed": false
   },
   "outputs": [
    {
     "name": "stdout",
     "output_type": "stream",
     "text": [
      "0.527037037037\n"
     ]
    }
   ],
   "source": [
    "#try SVC\n",
    "mod = LinearSVC(C=.1)\n",
    "cv = StratifiedShuffleSplit(targets, n_iter=10, test_size=.1)\n",
    "\n",
    "#coefs = []\n",
    "scores = []\n",
    "for tr, tt in cv:\n",
    "    mod.fit(combined[tr], targets[tr])\n",
    "    #coefs.append(mod.coef_)\n",
    "    scores.append(mod.score(combined[tt], targets[tt]))\n",
    "#coefs = np.array(coefs).mean(0)\n",
    "print(np.mean(scores))"
   ]
  },
  {
   "cell_type": "code",
   "execution_count": 19,
   "metadata": {
    "collapsed": false
   },
   "outputs": [
    {
     "name": "stdout",
     "output_type": "stream",
     "text": [
      "1: [array(['401k', 'ace', 'addicted', 'alaska', 'baby', 'bank', 'board',\n",
      "       'burger', 'business', 'buy', 'california', 'change', 'checking',\n",
      "       'child', 'claus', 'company', 'cool', 'corporate', 'credit', 'dogs',\n",
      "       'easiest', 'ebay', 'ghost', 'god', 'growth', 'holiday', 'hospital',\n",
      "       'house', 'investment', 'ira', 'jesus', 'job', 'letter', 'llc',\n",
      "       'longshoreman', 'magic', 'meaning', 'money', 'mortgage', 'oil',\n",
      "       'phone', 'picture', 'planning', 'plans', 'profit', 'question',\n",
      "       'questions', 'rabbit', 'restaurant', 'rich', 'rule', 'salary',\n",
      "       'santa', 'sending', 'soda', 'stock', 'tax', 'things', 'tonight',\n",
      "       'usa', 'weigh', 'yawning'], \n",
      "      dtype='<U19')]\n",
      "2: [array(['1000', 'adsense', 'advertisement', 'blog', 'code', 'computer',\n",
      "       'computers', 'dell', 'desktop', 'difference', 'documents', 'drive',\n",
      "       'dsl', 'dvd', 'file', 'flash', 'google', 'graphics', 'hard',\n",
      "       'install', 'internet', 'ip', 'java', 'laptop', 'limit', 'linux',\n",
      "       'mac', 'mail', 'microsoft', 'modem', 'network', 'note', 'notebook',\n",
      "       'page', 'password', 'php', 'podcast', 'port', 'prefer', 'printer',\n",
      "       'programming', 'rss', 'search', 'server', 'site', 'sites',\n",
      "       'software', 'spyware', 'technology', 'torrent', 'tutorial', 'unix',\n",
      "       'use', 'using', 'videos', 'virus', 'visual', 'website', 'windows',\n",
      "       'wireless', 'xp', 'yahoo'], \n",
      "      dtype='<U19')]\n",
      "3: [array(['actress', 'album', 'american', 'archie', 'band', 'batman',\n",
      "       'beyonce', 'bought', 'brown', 'cartoon', 'carver', 'celebrities',\n",
      "       'celebrity', 'cha', 'character', 'csi', 'did', 'dvds', 'eminem',\n",
      "       'episode', 'era', 'favorite', 'figure', 'film', 'golden', 'grace',\n",
      "       'guitar', 'harry', 'hilton', 'howard', 'joke', 'killed', 'looks',\n",
      "       'lyrics', 'magazine', 'model', 'movie', 'movies', 'music', 'new',\n",
      "       'pack', 'paris', 'park', 'popular', 'psp', 'published', 'radio',\n",
      "       'riddle', 'robot', 'rock', 'run', 'series', 'simpson', 'simpsons',\n",
      "       'singer', 'song', 'street', 'tech', 'tv', 'watch', 'watching', 'wwe'], \n",
      "      dtype='<U19')]\n",
      "4: [array(['age', 'ask', 'asked', 'bf', 'boyfriend', 'break', 'cheat',\n",
      "       'cheating', 'creative', 'date', 'dating', 'divorce', 'engagement',\n",
      "       'enjoy', 'ex', 'family', 'fantom', 'females', 'fined', 'friend',\n",
      "       'fugitive', 'gift', 'girl', 'girlfriend', 'girls', 'guy', 'guys',\n",
      "       'honeymoon', 'husband', 'inlove', 'isphonography', 'lady', 'leave',\n",
      "       'lie', 'likes', 'love', 'lover', 'marriage', 'married', 'mate',\n",
      "       'met', 'mood', 'orgasam', 'orgasm', 'orgasms', 'perfect', 'pickup',\n",
      "       'protective', 'rated', 'relationship', 'relationships', 'ring',\n",
      "       'sex', 'sexiest', 'sexual', 'sexually', 'son', 'sure', 'ur',\n",
      "       'wedding', 'woman', 'women'], \n",
      "      dtype='<U19')]\n",
      "5: [array(['75', 'andean', 'author', 'beehive', 'boiling', 'book', 'bully',\n",
      "       'college', 'colleges', 'degree', 'depression', 'dictionary',\n",
      "       'difinition', 'disfavor', 'education', 'essay', 'eye', 'fast',\n",
      "       'hand', 'handwritingwizard', 'happinest', 'high', 'history',\n",
      "       'iliad', 'invented', 'iran', 'language', 'largest', 'learning',\n",
      "       'mba', 'middle', 'mongeese', 'mongooses', 'naked', 'neurosurgeon',\n",
      "       'psychologist', 'quotation', 'quote', 'recommend', 'research',\n",
      "       'said', 'school', 'schools', 'sentence', 'shell', 'shot', 'slowest',\n",
      "       'sophisticated', 'spanish', 'sport', 'study', 'sudoku', 'sum',\n",
      "       'tablet', 'teachers', 'term', 'thursday', 'towns', 'university',\n",
      "       'war', 'word', 'words'], \n",
      "      dtype='<U19')]\n",
      "6: [array(['acne', 'aids', 'allergic', 'arm', 'asleep', 'bad', 'blood', 'body',\n",
      "       'breath', 'causes', 'cold', 'constipation', 'cure', 'dandruff',\n",
      "       'diet', 'disease', 'disorder', 'ear', 'effects', 'ejaculation',\n",
      "       'emphezma', 'exercise', 'expectancy', 'fart', 'fat', 'fellas',\n",
      "       'fight', 'flu', 'foam', 'health', 'herpes', 'hiv', 'improve',\n",
      "       'itching', 'medical', 'medication', 'medicine', 'near', 'normal',\n",
      "       'nose', 'pain', 'penis', 'pms', 'psychiatrist', 'pubic', 'rid',\n",
      "       'ringworm', 'smoking', 'stressed', 'surgery', 'symptoms',\n",
      "       'syndrome', 'tamiflu', 'teeth', 'therapy', 'treat', 'treatment',\n",
      "       'va', 'vomiting', 'wart', 'weight', 'worker'], \n",
      "      dtype='<U19')]\n",
      "7: [array(['10', 'acid', 'acids', 'animal', 'animals', 'came', 'celsius',\n",
      "       'chemical', 'climate', 'collision', 'countries', 'cubit', 'density',\n",
      "       'design', 'discovered', 'distance', 'earth', 'electricity',\n",
      "       'energy', 'eyes', 'foggy', 'gas', 'germination', 'gneiss',\n",
      "       'horizon', 'humans', 'imaginary', 'insulated', 'iron', 'laser',\n",
      "       'life', 'light', 'mass', 'materials', 'math', 'moon', 'nipples',\n",
      "       'numbers', 'oldest', 'paupisi', 'pharmacy', 'pi', 'planet',\n",
      "       'possible', 'purpose', 'rain', 'sense', 'sequence', 'shiney', 'sky',\n",
      "       'solution', 'space', 'species', 'stars', 'student', 'tail',\n",
      "       'theory', 'turn', 'universe', 'water', 'weather', 'works'], \n",
      "      dtype='<U19')]\n"
     ]
    }
   ],
   "source": [
    "#look only at important coefficients\n",
    "for cat, icoef in zip(vec_tar.classes_, coefs):\n",
    "    cut = np.percentile(icoef, 99)\n",
    "    important = icoef > cut\n",
    "    print('{0}: {1}'.format(cat, vec.inverse_transform(important)))"
   ]
  },
  {
   "cell_type": "code",
   "execution_count": null,
   "metadata": {
    "collapsed": true
   },
   "outputs": [],
   "source": []
  }
 ],
 "metadata": {
  "kernelspec": {
   "display_name": "Python 3",
   "language": "python",
   "name": "python3"
  },
  "language_info": {
   "codemirror_mode": {
    "name": "ipython",
    "version": 3
   },
   "file_extension": ".py",
   "mimetype": "text/x-python",
   "name": "python",
   "nbconvert_exporter": "python",
   "pygments_lexer": "ipython3",
   "version": "3.3.5"
  }
 },
 "nbformat": 4,
 "nbformat_minor": 0
}
