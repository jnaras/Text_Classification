{
 "cells": [
  {
   "cell_type": "code",
   "execution_count": 1,
   "metadata": {
    "collapsed": false
   },
   "outputs": [
    {
     "name": "stdout",
     "output_type": "stream",
     "text": [
      "Using matplotlib backend: MacOSX\n"
     ]
    }
   ],
   "source": [
    "%matplotlib"
   ]
  },
  {
   "cell_type": "code",
   "execution_count": 2,
   "metadata": {
    "collapsed": true
   },
   "outputs": [],
   "source": [
    "\n",
    "import seaborn as sns\n",
    "from matplotlib import pyplot as plt\n",
    "import matplotlib as mpl\n",
    "import numpy as np\n",
    "%matplotlib inline\n",
    "sns.set_palette('colorblind')\n",
    "sns.set_style('white')"
   ]
  },
  {
   "cell_type": "code",
   "execution_count": 3,
   "metadata": {
    "collapsed": true
   },
   "outputs": [],
   "source": [
    "import pandas as pd\n",
    "import nltk\n",
    "import string\n",
    "\n",
    "from sklearn.feature_extraction.text import CountVectorizer\n",
    "from sklearn.preprocessing import LabelEncoder\n",
    "from sklearn.svm import LinearSVC\n",
    "from sklearn.cross_validation import StratifiedShuffleSplit\n",
    "from sklearn.feature_extraction.stop_words import ENGLISH_STOP_WORDS"
   ]
  },
  {
   "cell_type": "code",
   "execution_count": 4,
   "metadata": {
    "collapsed": false
   },
   "outputs": [
    {
     "data": {
      "text/html": [
       "<div>\n",
       "<table border=\"1\" class=\"dataframe\">\n",
       "  <thead>\n",
       "    <tr style=\"text-align: right;\">\n",
       "      <th></th>\n",
       "      <th>Category</th>\n",
       "      <th>Text</th>\n",
       "    </tr>\n",
       "  </thead>\n",
       "  <tbody>\n",
       "    <tr>\n",
       "      <th>0</th>\n",
       "      <td>5</td>\n",
       "      <td>why are yawns contagious? when people yawn</td>\n",
       "    </tr>\n",
       "    <tr>\n",
       "      <th>1</th>\n",
       "      <td>6</td>\n",
       "      <td>what is trans fat? how to reduce that? i heard...</td>\n",
       "    </tr>\n",
       "    <tr>\n",
       "      <th>2</th>\n",
       "      <td>1</td>\n",
       "      <td>roth ira vs 401k? what is the difference betwe...</td>\n",
       "    </tr>\n",
       "    <tr>\n",
       "      <th>3</th>\n",
       "      <td>1</td>\n",
       "      <td>how many planes fedex has? i heard that it is ...</td>\n",
       "    </tr>\n",
       "    <tr>\n",
       "      <th>4</th>\n",
       "      <td>2</td>\n",
       "      <td>what is the best photo slideshow creation appl...</td>\n",
       "    </tr>\n",
       "  </tbody>\n",
       "</table>\n",
       "</div>"
      ],
      "text/plain": [
       "   Category                                               Text\n",
       "0         5         why are yawns contagious? when people yawn\n",
       "1         6  what is trans fat? how to reduce that? i heard...\n",
       "2         1  roth ira vs 401k? what is the difference betwe...\n",
       "3         1  how many planes fedex has? i heard that it is ...\n",
       "4         2  what is the best photo slideshow creation appl..."
      ]
     },
     "execution_count": 4,
     "metadata": {},
     "output_type": "execute_result"
    }
   ],
   "source": [
    "df = pd.read_csv('newtrain.csv')\n",
    "df.head()"
   ]
  },
  {
   "cell_type": "code",
   "execution_count": 5,
   "metadata": {
    "collapsed": false
   },
   "outputs": [],
   "source": [
    "#tokenize text\n",
    "pattern = r'''(?x)    # set flag to allow verbose regexps\n",
    "     ([A-Z]\\.)+        # abbreviations, e.g. U.S.A.\n",
    "   | \\w+([-']\\w+)*        # words with optional internal hyphens\n",
    "   | \\$?\\d+(\\.\\d+)?%?  # currency and percentages, e.g. $12.40, 82%\n",
    "   | \\.\\.\\.            # ellipsis\n",
    "   | [.,;\"?():-_`]+  # these are separate tokens\n",
    " '''\n",
    "\n",
    "tokenize = lambda text: nltk.regexp_tokenize(text, pattern)\n",
    "df['Text'] = df['Text'].apply(tokenize)"
   ]
  },
  {
   "cell_type": "code",
   "execution_count": 6,
   "metadata": {
    "collapsed": false
   },
   "outputs": [
    {
     "data": {
      "text/html": [
       "<div>\n",
       "<table border=\"1\" class=\"dataframe\">\n",
       "  <thead>\n",
       "    <tr style=\"text-align: right;\">\n",
       "      <th></th>\n",
       "      <th>Category</th>\n",
       "      <th>Text</th>\n",
       "    </tr>\n",
       "  </thead>\n",
       "  <tbody>\n",
       "    <tr>\n",
       "      <th>0</th>\n",
       "      <td>5</td>\n",
       "      <td>[why, are, yawns, contagious, ?, when, people,...</td>\n",
       "    </tr>\n",
       "    <tr>\n",
       "      <th>1</th>\n",
       "      <td>6</td>\n",
       "      <td>[what, is, trans, fat, ?, how, to, reduce, tha...</td>\n",
       "    </tr>\n",
       "    <tr>\n",
       "      <th>2</th>\n",
       "      <td>1</td>\n",
       "      <td>[roth, ira, vs, 401k, ?, what, is, the, differ...</td>\n",
       "    </tr>\n",
       "    <tr>\n",
       "      <th>3</th>\n",
       "      <td>1</td>\n",
       "      <td>[how, many, planes, fedex, has, ?, i, heard, t...</td>\n",
       "    </tr>\n",
       "    <tr>\n",
       "      <th>4</th>\n",
       "      <td>2</td>\n",
       "      <td>[what, is, the, best, photo, slideshow, creati...</td>\n",
       "    </tr>\n",
       "  </tbody>\n",
       "</table>\n",
       "</div>"
      ],
      "text/plain": [
       "   Category                                               Text\n",
       "0         5  [why, are, yawns, contagious, ?, when, people,...\n",
       "1         6  [what, is, trans, fat, ?, how, to, reduce, tha...\n",
       "2         1  [roth, ira, vs, 401k, ?, what, is, the, differ...\n",
       "3         1  [how, many, planes, fedex, has, ?, i, heard, t...\n",
       "4         2  [what, is, the, best, photo, slideshow, creati..."
      ]
     },
     "execution_count": 6,
     "metadata": {},
     "output_type": "execute_result"
    }
   ],
   "source": [
    "df.head()"
   ]
  },
  {
   "cell_type": "code",
   "execution_count": 98,
   "metadata": {
    "collapsed": true
   },
   "outputs": [],
   "source": [
    "#remove punctuation and turn into string\n",
    "rem_chars = [p for p in string.punctuation]\n",
    "rem = lambda a: ' '.join([i for i in a if i not in rem_chars])\n",
    "df['Text'] = df['Text'].apply(rem)\n"
   ]
  },
  {
   "cell_type": "code",
   "execution_count": 80,
   "metadata": {
    "collapsed": false
   },
   "outputs": [],
   "source": [
    "# Remove html and punctuation\n",
    "#rem_chars = ['http', 'www', 'com', 'html'] + [p for p in string.punctuation]\n",
    "#rem = lambda a: [i for i in a if i not in rem_chars]\n",
    "#df['Text'] = df['Text'].apply(rem)\n"
   ]
  },
  {
   "cell_type": "code",
   "execution_count": 99,
   "metadata": {
    "collapsed": false,
    "scrolled": true
   },
   "outputs": [
    {
     "data": {
      "text/plain": [
       "'is lin qingxia aka brigitte lin the most beautiful woman in chinese cinema this is according to stephen chow http www hkentreview com 2005 features kfh kfhprem html ). is it true who is the best-looking male star did they make any movies together'"
      ]
     },
     "execution_count": 99,
     "metadata": {},
     "output_type": "execute_result"
    }
   ],
   "source": [
    "df.Text.iloc[7]"
   ]
  },
  {
   "cell_type": "code",
   "execution_count": 93,
   "metadata": {
    "collapsed": true
   },
   "outputs": [],
   "source": [
    "#vectorize data\n",
    "#turns words into a list of vectors - vector length is the total number of words\n",
    "#Vector elements correspond to 1 word (1/0 if word is/not present in the current item)\n",
    "vec = CountVectorizer(max_df=.6, stop_words=ENGLISH_STOP_WORDS)\n",
    "vec_tar = LabelEncoder()"
   ]
  },
  {
   "cell_type": "code",
   "execution_count": 127,
   "metadata": {
    "collapsed": false
   },
   "outputs": [
    {
     "data": {
      "text/plain": [
       "(2698, 6176)"
      ]
     },
     "execution_count": 127,
     "metadata": {},
     "output_type": "execute_result"
    }
   ],
   "source": [
    "counts = vec.fit_transform(df['Text']) \n",
    "counts.shape"
   ]
  },
  {
   "cell_type": "code",
   "execution_count": 128,
   "metadata": {
    "collapsed": false
   },
   "outputs": [
    {
     "data": {
      "text/plain": [
       "(2698,)"
      ]
     },
     "execution_count": 128,
     "metadata": {},
     "output_type": "execute_result"
    }
   ],
   "source": [
    "targets = vec_tar.fit_transform(df['Category'])\n",
    "targets.shape"
   ]
  },
  {
   "cell_type": "code",
   "execution_count": 140,
   "metadata": {
    "collapsed": false
   },
   "outputs": [
    {
     "data": {
      "text/plain": [
       "[<matplotlib.lines.Line2D at 0x10f3f3850>,\n",
       " <matplotlib.lines.Line2D at 0x10f3f3c10>,\n",
       " <matplotlib.lines.Line2D at 0x10f3f3e90>]"
      ]
     },
     "execution_count": 140,
     "metadata": {},
     "output_type": "execute_result"
    },
    {
     "data": {
      "image/png": "[encoded data removed]",
      "text/plain": [
       "<matplotlib.figure.Figure at 0x10e0d4090>"
      ]
     },
     "metadata": {},
     "output_type": "display_data"
    }
   ],
   "source": [
    "#each color is a question, x axis is the words, y axis is the counts (like histogram)\n",
    "plt.plot(counts[:3,:].toarray().T)"
   ]
  },
  {
   "cell_type": "code",
   "execution_count": 143,
   "metadata": {
    "collapsed": false
   },
   "outputs": [
    {
     "data": {
      "text/plain": [
       "matrix([[0, 1, 0, ..., 1, 1, 0]], dtype=int64)"
      ]
     },
     "execution_count": 143,
     "metadata": {},
     "output_type": "execute_result"
    }
   ],
   "source": [
    "counts[targets == itrg,:].sum(0)"
   ]
  },
  {
   "cell_type": "code",
   "execution_count": 144,
   "metadata": {
    "collapsed": true
   },
   "outputs": [],
   "source": [
    "top_words = {}\n",
    "for itrg in np.unique(targets):\n",
    "    loc = vec_tar.classes_[itrg]\n",
    "    # Pull rows for the current category, sum all rows (each element is a word)\n",
    "    icounts = counts[targets == itrg, :].sum(0).squeeze() \n",
    "    \n",
    "    # Which word counts occured >5 times\n",
    "    mask_top_words = icounts > 5\n",
    "    \n",
    "    # Turns vectors back into actual words (inverse transform - magical!)\n",
    "    top_words[loc] = vec.inverse_transform(mask_top_words)[0]"
   ]
  },
  {
   "cell_type": "code",
   "execution_count": 145,
   "metadata": {
    "collapsed": false
   },
   "outputs": [
    {
     "data": {
      "text/plain": [
       "{1: array(['401k', 'account', 'address', 'amp', 'answer', 'answers', 'area',\n",
       "        'ask', 'bad', 'bank', 'best', 'better', 'books', 'boy', 'boyfriend',\n",
       "        'br', 'business', 'buy', 'california', 'card', 'cards', 'cash',\n",
       "        'change', 'christmas', 'com', 'come', 'company', 'cost', 'country',\n",
       "        'credit', 'day', 'did', 'difference', 'different', 'does', 'don',\n",
       "        'dont', 'email', 'english', 'free', 'friend', 'friends', 'getting',\n",
       "        'girl', 'girls', 'going', 'good', 'got', 'great', 'gt', 'guy',\n",
       "        'guys', 'help', 'home', 'house', 'idea', 'ideas', 'im', 'income',\n",
       "        'information', 'ira', 'job', 'just', 'kids', 'kind', 'know', 'let',\n",
       "        'life', 'like', 'list', 'live', 'long', 'look', 'looking', 'love',\n",
       "        'lt', 'mail', 'make', 'man', 'market', 'mean', 'meaning', 'men',\n",
       "        'money', 'month', 'mortgage', 'need', 'new', 'number', 'old',\n",
       "        'online', 'open', 'pay', 'people', 'person', 'phone', 'place',\n",
       "        'points', 'question', 'questions', 'real', 'really', 'rent',\n",
       "        'santa', 'say', 'sell', 'send', 'sending', 'service', 'sex', 'site',\n",
       "        'small', 'stand', 'start', 'states', 'stock', 'tax', 'tell',\n",
       "        'things', 'think', 'time', 'today', 'true', 'trying', 'united',\n",
       "        'usa', 'using', 've', 'want', 'way', 'web', 'website', 'women',\n",
       "        'wondering', 'work', 'world', 'xa', 'xd', 'yahoo', 'year', 'years'], \n",
       "       dtype='<U19'),\n",
       " 2: array(['access', 'account', 'address', 'amp', 'answers', 'ask', 'best',\n",
       "        'beta', 'better', 'browser', 'buy', 'cable', 'capture', 'card',\n",
       "        'cd', 'change', 'code', 'com', 'computer', 'computers',\n",
       "        'connection', 'cost', 'create', 'data', 'desktop', 'difference',\n",
       "        'different', 'disk', 'does', 'doesn', 'download', 'drive', 'dsl',\n",
       "        'dvd', 'email', 'engine', 'file', 'files', 'free', 'game', 'good',\n",
       "        'google', 'hard', 'help', 'http', 'install', 'installed',\n",
       "        'internet', 'java', 'just', 'know', 'laptop', 'learn', 'like',\n",
       "        'line', 'linux', 'looking', 'lt', 'mac', 'machine', 'mail', 'make',\n",
       "        'microsoft', 'modem', 'music', 'need', 'network', 'new', 'old',\n",
       "        'online', 'os', 'page', 'password', 'pc', 'people', 'photo',\n",
       "        'photos', 'php', 'play', 'player', 'ports', 'possible', 'printer',\n",
       "        'program', 'programming', 'project', 'ram', 'right', 'router',\n",
       "        'search', 'send', 'server', 'service', 'set', 'site', 'sites',\n",
       "        'software', 'start', 'tell', 'think', 'time', 'use', 'used',\n",
       "        'users', 'using', 've', 'version', 'video', 'videos', 'virus',\n",
       "        'want', 'way', 'web', 'website', 'windows', 'wireless', 'work',\n",
       "        'www', 'xa', 'xp', 'yahoo'], \n",
       "       dtype='<U19'),\n",
       " 3: array(['american', 'amp', 'artist', 'band', 'best', 'br', 'cartoon', 'cd',\n",
       "        'christmas', 'come', 'did', 'die', 'does', 'don', 'download', 'dvd',\n",
       "        'episode', 'favorite', 'figure', 'film', 'free', 'going', 'good',\n",
       "        'gt', 'heard', 'hold', 'just', 'know', 'like', 'listen', 'looking',\n",
       "        'love', 'lt', 'lyrics', 'magazine', 'mean', 'movie', 'movies',\n",
       "        'music', 'need', 'new', 'old', 'people', 'really', 'remember',\n",
       "        'riddle', 'rock', 'series', 'singer', 'song', 'star', 'tell',\n",
       "        'think', 'time', 'tv', 'want', 'website', 'xa', 'xd', 'yahoo',\n",
       "        'year', 'years'], \n",
       "       dtype='<U19'),\n",
       " 4: array(['alot', 'anymore', 'ask', 'asked', 'bad', 'believe', 'best', 'boy',\n",
       "        'boyfriend', 'break', 'christmas', 'come', 'date', 'dating', 'day',\n",
       "        'did', 'does', 'doesn', 'don', 'dont', 'end', 'ex', 'family',\n",
       "        'feel', 'friend', 'friends', 'gay', 'girl', 'girlfriend', 'girls',\n",
       "        'going', 'good', 'got', 'guy', 'guys', 'happy', 'having', 'help',\n",
       "        'husband', 'im', 'just', 'know', 'life', 'like', 'likes', 'long',\n",
       "        'looking', 'lot', 'love', 'loves', 'make', 'man', 'marriage',\n",
       "        'married', 'mean', 'men', 'met', 'month', 'months', 'mother',\n",
       "        'need', 'new', 'nice', 'old', 'online', 'people', 'person',\n",
       "        'really', 'relationship', 'say', 'says', 'sex', 'stop', 'talk',\n",
       "        'tell', 'things', 'think', 'time', 'true', 'try', 'ur', 've',\n",
       "        'want', 'way', 'wife', 'woman', 'women', 'work', 'wrong', 'year',\n",
       "        'years'], \n",
       "       dtype='<U19'),\n",
       " 5: array(['best', 'book', 'chuck', 'college', 'come', 'degree', 'did', 'does',\n",
       "        'education', 'english', 'good', 'help', 'high', 'history', 'know',\n",
       "        'language', 'like', 'mean', 'need', 'people', 'school', 'schools',\n",
       "        'study', 'think', 'wood', 'word', 'words', 'world', 'xa', 'year'], \n",
       "       dtype='<U19'),\n",
       " 6: array(['away', 'bad', 'best', 'blood', 'body', 'causes', 'cold', 'day',\n",
       "        'diet', 'does', 'don', 'feel', 'fight', 'good', 'health', 'help',\n",
       "        'hiv', 'just', 'know', 'like', 'long', 'make', 'normal', 'old',\n",
       "        'pain', 'people', 'person', 'rid', 'sex', 'smoking', 'surgery',\n",
       "        'time', 'use', 've', 'way', 'weight', 'xa'], \n",
       "       dtype='<U19'),\n",
       " 7: array(['amp', 'come', 'did', 'does', 'earth', 'gas', 'know', 'life',\n",
       "        'make', 'need', 'possible', 'really', 'tell', 'theory', 'time',\n",
       "        'water', 'world', 'xa'], \n",
       "       dtype='<U19')}"
      ]
     },
     "execution_count": 145,
     "metadata": {},
     "output_type": "execute_result"
    }
   ],
   "source": [
    "top_words"
   ]
  },
  {
   "cell_type": "code",
   "execution_count": 148,
   "metadata": {
    "collapsed": true
   },
   "outputs": [],
   "source": [
    "#keep words that are unique to that category\n",
    "unique_words = {}\n",
    "for cat, words in zip(top_words.keys(), top_words.values()):\n",
    "    others = top_words.copy()\n",
    "    others.pop(cat)\n",
    "    unique_words[cat] = [wrd for wrd in top_words[cat]\n",
    "                         if wrd not in np.hstack(others.values())]"
   ]
  },
  {
   "cell_type": "code",
   "execution_count": null,
   "metadata": {
    "collapsed": true
   },
   "outputs": [],
   "source": []
  },
  {
   "cell_type": "code",
   "execution_count": 153,
   "metadata": {
    "collapsed": false
   },
   "outputs": [
    {
     "name": "stdout",
     "output_type": "stream",
     "text": [
      "0.57037037037\n",
      "0.548148148148\n",
      "0.548148148148\n",
      "0.57037037037\n",
      "0.574074074074\n",
      "0.533333333333\n",
      "0.562962962963\n",
      "0.548148148148\n",
      "0.511111111111\n",
      "0.559259259259\n"
     ]
    }
   ],
   "source": [
    "#try SVC\n",
    "mod = LinearSVC(C=.1)\n",
    "cv = StratifiedShuffleSplit(targets, n_iter=10, test_size=.1)\n",
    "\n",
    "coefs = []\n",
    "for tr, tt in cv:\n",
    "    mod.fit(counts[tr], targets[tr])\n",
    "    coefs.append(mod.coef_)\n",
    "    print(mod.score(counts[tt], targets[tt]))\n",
    "coefs = np.array(coefs).mean(0)"
   ]
  },
  {
   "cell_type": "code",
   "execution_count": 154,
   "metadata": {
    "collapsed": false
   },
   "outputs": [
    {
     "name": "stdout",
     "output_type": "stream",
     "text": [
      "1: [array(['401k', 'account', 'ace', 'baby', 'bank', 'board', 'burger',\n",
      "       'business', 'california', 'change', 'checking', 'child', 'claus',\n",
      "       'company', 'cool', 'corporate', 'credit', 'december', 'dogs',\n",
      "       'easiest', 'ebay', 'ghost', 'god', 'growth', 'holiday', 'house',\n",
      "       'investment', 'ira', 'jersey', 'jesus', 'job', 'letter', 'licence',\n",
      "       'llc', 'longshoreman', 'magic', 'meaning', 'money', 'mortgage',\n",
      "       'oil', 'phone', 'picture', 'planning', 'plans', 'profit',\n",
      "       'question', 'rabbit', 'ravens', 'restaurant', 'rich', 'rule',\n",
      "       'santa', 'sending', 'soda', 'stock', 'tax', 'things', 'tonight',\n",
      "       'usa', 'weigh', 'wondering', 'yawning'], \n",
      "      dtype='<U19')]\n",
      "2: [array(['1000', 'adsense', 'blog', 'blogging', 'code', 'computer',\n",
      "       'computers', 'dell', 'desktop', 'difference', 'documents', 'drive',\n",
      "       'dsl', 'dvd', 'file', 'gmail', 'google', 'graphics', 'hard',\n",
      "       'install', 'internet', 'ip', 'java', 'laptop', 'linux', 'mac',\n",
      "       'mail', 'microsoft', 'modem', 'network', 'note', 'page', 'password',\n",
      "       'php', 'podcast', 'port', 'prefer', 'printer', 'programming', 'rss',\n",
      "       'search', 'server', 'site', 'sites', 'software', 'spyware', 'tags',\n",
      "       'technology', 'torrent', 'tutorial', 'unix', 'use', 'users',\n",
      "       'using', 'videos', 'virus', 'visual', 'website', 'windows',\n",
      "       'wireless', 'xp', 'yahoo'], \n",
      "      dtype='<U19')]\n",
      "3: [array(['actress', 'album', 'archie', 'artist', 'band', 'batman', 'beyonce',\n",
      "       'blues', 'brown', 'cartoon', 'carver', 'celeberated', 'celebrities',\n",
      "       'celebrity', 'character', 'csi', 'devotional', 'did', 'dvds', 'emo',\n",
      "       'episode', 'era', 'favorite', 'figure', 'film', 'guitar', 'hilton',\n",
      "       'hold', 'howard', 'joke', 'killed', 'looks', 'lyrics', 'magazine',\n",
      "       'model', 'movie', 'movies', 'music', 'nanoo', 'new', 'pack',\n",
      "       'paris', 'park', 'popular', 'psp', 'published', 'radio', 'riddle',\n",
      "       'robot', 'rock', 'run', 'series', 'simpson', 'simpsons', 'singer',\n",
      "       'song', 'spice', 'street', 'tv', 'watch', 'watching', 'wwe'], \n",
      "      dtype='<U19')]\n",
      "4: [array(['age', 'ask', 'asked', 'bf', 'bisexual', 'boyfriend', 'break',\n",
      "       'cheat', 'cheating', 'creative', 'date', 'dating', 'divorce',\n",
      "       'enjoy', 'ex', 'expressions', 'family', 'females', 'fined',\n",
      "       'friend', 'gift', 'girl', 'girlfriend', 'girls', 'guy', 'guys',\n",
      "       'honeymoon', 'husband', 'inlove', 'inuyasha', 'lady', 'lagos',\n",
      "       'leave', 'lie', 'likes', 'love', 'lover', 'marriage', 'married',\n",
      "       'mate', 'met', 'mood', 'mother', 'orgasm', 'orgasms', 'perfect',\n",
      "       'rated', 'relationship', 'relationships', 'sex', 'sexual',\n",
      "       'sexually', 'single', 'son', 'sure', 'talk', 'thicker', 'topics',\n",
      "       'ur', 'wedding', 'woman', 'women'], \n",
      "      dtype='<U19')]\n",
      "5: [array(['16th', 'acidity', 'african', 'author', 'beehive', 'book', 'bully',\n",
      "       'capital', 'coliege', 'college', 'colleges', 'degree', 'depression',\n",
      "       'dictionary', 'education', 'essay', 'finger', 'handwritingwizard',\n",
      "       'happinest', 'high', 'history', 'iliad', 'islands', 'language',\n",
      "       'largest', 'learning', 'majors', 'mba', 'middle', 'mongeese',\n",
      "       'mongooses', 'naked', 'psychologist', 'quotation', 'quote',\n",
      "       'research', 'said', 'school', 'schools', 'seeds', 'sentence',\n",
      "       'shivani', 'shot', 'socio', 'spanish', 'sport', 'step', 'study',\n",
      "       'sudoku', 'sum', 'teachers', 'term', 'titratable', 'towns', 'uni',\n",
      "       'university', 'war', 'word', 'words', 'xoxo', 'ykk', 'zippers'], \n",
      "      dtype='<U19')]\n",
      "6: [array(['acne', 'aids', 'allergic', 'arm', 'asleep', 'bad', 'blood', 'body',\n",
      "       'breath', 'causes', 'cold', 'constipation', 'cure', 'curl',\n",
      "       'dandruff', 'diet', 'disease', 'disorder', 'ear', 'effects',\n",
      "       'ejaculation', 'exercise', 'extacy', 'fart', 'fat', 'fellas',\n",
      "       'fight', 'flu', 'foam', 'health', 'herpes', 'hiv', 'improve',\n",
      "       'medical', 'medication', 'medicine', 'near', 'normal', 'nose',\n",
      "       'nuvaring', 'pain', 'penis', 'philtrum', 'pressure', 'remedies',\n",
      "       'rid', 'ringworm', 'smoking', 'stress', 'stressed', 'surgery',\n",
      "       'symptoms', 'tamiflu', 'teeth', 'treat', 'treatment', 'treatments',\n",
      "       'va', 'vomiting', 'wart', 'weight', 'worker'], \n",
      "      dtype='<U19')]\n",
      "7: [array(['10', 'acid', 'acids', 'animal', 'animals', 'brockenspecter',\n",
      "       'came', 'celsius', 'countries', 'cremation', 'cubit', 'density',\n",
      "       'design', 'discovered', 'earth', 'electricity', 'energy', 'eyes',\n",
      "       'flying', 'foggy', 'gas', 'germination', 'humans', 'imaginary',\n",
      "       'insulated', 'iron', 'laser', 'life', 'light', 'mass', 'materials',\n",
      "       'math', 'moon', 'nipples', 'oldest', 'pharmacy', 'pi', 'planet',\n",
      "       'possible', 'purpose', 'rain', 'reference', 'science', 'seal',\n",
      "       'sense', 'sequence', 'shiney', 'sky', 'solution', 'space',\n",
      "       'species', 'stars', 'student', 'syndicalist', 'tail', 'theory',\n",
      "       'turn', 'universe', 'water', 'weather', 'works', 'zoology'], \n",
      "      dtype='<U19')]\n"
     ]
    }
   ],
   "source": [
    "#look only at important coefficients\n",
    "for cat, icoef in zip(vec_tar.classes_, coefs):\n",
    "    cut = np.percentile(icoef, 99)\n",
    "    important = icoef > cut\n",
    "    print('{0}: {1}'.format(cat, vec.inverse_transform(important)))"
   ]
  },
  {
   "cell_type": "code",
   "execution_count": null,
   "metadata": {
    "collapsed": true
   },
   "outputs": [],
   "source": []
  }
 ],
 "metadata": {
  "kernelspec": {
   "display_name": "Python 3",
   "language": "python",
   "name": "python3"
  },
  "language_info": {
   "codemirror_mode": {
    "name": "ipython",
    "version": 3
   },
   "file_extension": ".py",
   "mimetype": "text/x-python",
   "name": "python",
   "nbconvert_exporter": "python",
   "pygments_lexer": "ipython3",
   "version": "3.3.5"
  }
 },
 "nbformat": 4,
 "nbformat_minor": 0
}
