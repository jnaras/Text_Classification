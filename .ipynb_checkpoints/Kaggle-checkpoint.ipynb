{
 "cells": [
  {
   "cell_type": "code",
   "execution_count": 396,
   "metadata": {
    "collapsed": false
   },
   "outputs": [
    {
     "name": "stdout",
     "output_type": "stream",
     "text": [
      "Once deleted, variables cannot be recovered. Proceed (y/[n])? y\n"
     ]
    }
   ],
   "source": [
    "%reset"
   ]
  },
  {
   "cell_type": "code",
   "execution_count": 1,
   "metadata": {
    "collapsed": false
   },
   "outputs": [
    {
     "name": "stdout",
     "output_type": "stream",
     "text": [
      "Using matplotlib backend: MacOSX\n"
     ]
    }
   ],
   "source": [
    "%matplotlib"
   ]
  },
  {
   "cell_type": "code",
   "execution_count": 2,
   "metadata": {
    "collapsed": true
   },
   "outputs": [],
   "source": [
    "import seaborn as sns\n",
    "from matplotlib import pyplot as plt\n",
    "import matplotlib as mpl\n",
    "import numpy as np\n",
    "%matplotlib inline\n",
    "sns.set_palette('colorblind')\n",
    "sns.set_style('white')"
   ]
  },
  {
   "cell_type": "code",
   "execution_count": 16,
   "metadata": {
    "collapsed": false
   },
   "outputs": [],
   "source": [
    "import pandas as pd\n",
    "import nltk\n",
    "import string\n",
    "\n",
    "from sklearn.feature_extraction.text import CountVectorizer, TfidfTransformer, TfidfVectorizer\n",
    "from sklearn.feature_extraction.stop_words import ENGLISH_STOP_WORDS\n",
    "\n",
    "from sklearn.preprocessing import LabelEncoder\n",
    "from sklearn.svm import SVC\n",
    "from sklearn.cross_validation import StratifiedShuffleSplit, train_test_split\n",
    "\n",
    "from sklearn.naive_bayes import MultinomialNB\n",
    "from sklearn.linear_model import LogisticRegression\n",
    "\n",
    "from sklearn.metrics import accuracy_score, classification_report,confusion_matrix \n",
    "\n",
    "from sklearn.pipeline import Pipeline\n",
    "\n",
    "from sklearn.grid_search import GridSearchCV"
   ]
  },
  {
   "cell_type": "code",
   "execution_count": 4,
   "metadata": {
    "collapsed": true
   },
   "outputs": [],
   "source": [
    "def get_data():\n",
    "    df = pd.read_csv('newtrain.csv')\n",
    "    return df\n",
    "\n",
    "def get_test_data():\n",
    "    df = pd.read_csv('newtest.csv')\n",
    "    return df"
   ]
  },
  {
   "cell_type": "code",
   "execution_count": 5,
   "metadata": {
    "collapsed": true
   },
   "outputs": [],
   "source": [
    "def add_features(df):\n",
    "\n",
    "    #tokenize text\n",
    "    pattern = r'''(?x)    # set flag to allow verbose regexps\n",
    "         ([A-Z]\\.)+        # abbreviations, e.g. U.S.A.\n",
    "       | \\w+([-']\\w+)*        # words with optional internal hyphens\n",
    "       | \\$?\\d+(\\.\\d+)?%?  # currency and percentages, e.g. $12.40, 82%\n",
    "       | [!\"#$%&\\'()*+,-./:;<=>?@[\\\\]^_`{|}~]+  # these are separate tokens (string.punctuation)\n",
    "     '''\n",
    "    tokenize = lambda text: nltk.regexp_tokenize(text, pattern)\n",
    "    df['Tokens'] = df['Text'].apply(tokenize)\n",
    "    \n",
    "    def pos_tag(text):\n",
    "        tuples = nltk.pos_tag(text)\n",
    "        tags = []\n",
    "        for t in tuples:\n",
    "            tags.append(t[1])\n",
    "        return tags\n",
    "    def get_nouns(text):\n",
    "        wnlemmatizer = nltk.WordNetLemmatizer()\n",
    "        tuples = nltk.pos_tag(text)\n",
    "        tags = []\n",
    "        for t in tuples:\n",
    "            if t[1][0] == 'N':\n",
    "                tags.append(wnlemmatizer.lemmatize(t[0]))\n",
    "        return tags\n",
    "    df['Nouns'] = df['Tokens'].apply(get_nouns)\n",
    "    df['POS'] = df['Tokens'].apply(pos_tag)\n",
    "    make_string = lambda a: ' '.join(i for i in a)\n",
    "    df['Nouns'] = df['Nouns'].apply(make_string)\n",
    "    df['POS'] = df['POS'].apply(make_string)\n",
    "    \n",
    "    df['TokenString'] = df['Tokens'].apply(make_string)\n",
    "    \n",
    "    return df"
   ]
  },
  {
   "cell_type": "code",
   "execution_count": 6,
   "metadata": {
    "collapsed": false
   },
   "outputs": [],
   "source": [
    "#vectorize data\n",
    "#turns words into a list of vectors - vector length is the total number of words\n",
    "#Vector elements correspond to 1 word (1/0 if word is/not present in the current item)\n",
    "def featurize(df, test_df, max_f, targets=True):\n",
    "    count_vec = CountVectorizer(analyzer = 'char_wb', ngram_range= (5,5), stop_words = ENGLISH_STOP_WORDS)\n",
    "    noun_vec = CountVectorizer(analyzer = 'char_wb')\n",
    "    pos_vec = CountVectorizer()\n",
    "    vec_tar = LabelEncoder()\n",
    "    targets = df['Category']\n",
    "        \n",
    "    counts = count_vec.fit_transform(df['Text'])\n",
    "    #print(\"Counts shape: \" + str(counts.shape))\n",
    "    nouns = noun_vec.fit_transform(df['Nouns'])\n",
    "    #print(\"Nouns shape: \" + str(nouns.shape))\n",
    "    pos = pos_vec.fit_transform(df['POS'])\n",
    "    #print(\"POS shape: \" + str(pos.shape))\n",
    "    \n",
    "    \n",
    "    tfidf_transformer = TfidfTransformer()\n",
    "    tfidf = tfidf_transformer.fit_transform(counts)\n",
    "    \n",
    "    \n",
    "    test = count_vec.transform(test_df['Text'])\n",
    "    test = tfidf_transformer.transform(test)\n",
    "    test_nouns = noun_vec.transform(test_df['Nouns'])\n",
    "    test_pos = pos_vec.transform(test_df['POS'])\n",
    "    \n",
    "    #To combine or not to combine\n",
    "    nouns_array = nouns.toarray()\n",
    "    pos_array = pos.toarray()\n",
    "    combined = np.hstack((nouns_array, pos_array))\n",
    "    \n",
    "    tnouns_array = test_nouns.toarray()\n",
    "    tpos_array = test_pos.toarray()\n",
    "    \n",
    "    tcombined = np.hstack((tnouns_array, tpos_array))\n",
    "    \n",
    "    return targets, tfidf, test"
   ]
  },
  {
   "cell_type": "code",
   "execution_count": 7,
   "metadata": {
    "collapsed": true
   },
   "outputs": [],
   "source": [
    "#evaluate using 10 fold cross-validation, inspect results\n",
    "#KNN WITH CV#\n",
    "def cross_validate(targets, df):\n",
    "    #SVC\n",
    "    mod = LinearSVC(C=.1)\n",
    "    cv = StratifiedShuffleSplit(targets, n_iter=10, test_size=.1)\n",
    "    \n",
    "    scores = []\n",
    "    for tr, tt in cv:\n",
    "        train = df.loc[tr]\n",
    "        test = df.loc[tt]\n",
    "        result = featurize(train, test, 1000)\n",
    "        xtrain = result[1]\n",
    "        xtest = result[2]\n",
    "        mod.fit(xtrain, targets[tr])\n",
    "        scores.append(mod.score(xtest, targets[tt]))\n",
    "\n",
    "    print('\\nLinear SVC\\n\\t mean score: {0}'.format(np.mean(scores)))\n",
    "    \n",
    "    #svm\n",
    "    #mod = SGDClassifier(loss = 'hinge',penalty = 'L2',alpha = 1e-3)\n",
    "    #scores = []\n",
    "    #for tr, tt in cv:\n",
    "    #    mod.fit(features[tr], targets[tr])\n",
    "    #    scores.append(mod.score(features[tt],targets[tt]))\n",
    "    #print('\\nLinear SVM\\n\\t mean score: {0}'.format(np.mean(scores)))\n",
    "    \n",
    "    \n",
    "    \n",
    "    #naive bayes\n",
    "    mod = MultinomialNB(alpha=1.0, fit_prior=True, class_prior=None)\n",
    "    scores = []\n",
    "    for tr, tt in cv:\n",
    "        train = df.loc[tr]\n",
    "        test = df.loc[tt]\n",
    "        result = featurize(train, test, 1000)\n",
    "        xtrain = result[1]\n",
    "        xtest = result[2]\n",
    "        mod.fit(xtrain, targets[tr])\n",
    "        scores.append(mod.score(xtest, targets[tt]))\n",
    "    print('\\nNaive Bayes\\n\\t mean score: {0}'.format(np.mean(scores)))\n",
    "    \n",
    "    #logistic regression\n",
    "    logreg = LogisticRegression()\n",
    "    scores = []\n",
    "    for tr, tt in cv:\n",
    "        train = df.loc[tr]\n",
    "        test = df.loc[tt]\n",
    "        result = featurize(train, test, 1000)\n",
    "        xtrain = result[1]\n",
    "        xtest = result[2]\n",
    "        mod.fit(xtrain, targets[tr])\n",
    "        scores.append(mod.score(xtest, targets[tt]))\n",
    "    print('\\nLogReg\\n\\t mean score: {0}'.format(np.mean(scores)))\n",
    "    "
   ]
  },
  {
   "cell_type": "code",
   "execution_count": 8,
   "metadata": {
    "collapsed": false
   },
   "outputs": [
    {
     "data": {
      "text/html": [
       "<div>\n",
       "<table border=\"1\" class=\"dataframe\">\n",
       "  <thead>\n",
       "    <tr style=\"text-align: right;\">\n",
       "      <th></th>\n",
       "      <th>Category</th>\n",
       "      <th>Text</th>\n",
       "      <th>Tokens</th>\n",
       "      <th>Nouns</th>\n",
       "      <th>POS</th>\n",
       "      <th>TokenString</th>\n",
       "    </tr>\n",
       "  </thead>\n",
       "  <tbody>\n",
       "    <tr>\n",
       "      <th>0</th>\n",
       "      <td>5</td>\n",
       "      <td>why are yawns contagious? when people yawn</td>\n",
       "      <td>[why, are, yawns, contagious, when, people, yawn]</td>\n",
       "      <td>yawn people</td>\n",
       "      <td>WRB VBP NNS JJ WRB NNS VBP</td>\n",
       "      <td>why are yawns contagious when people yawn</td>\n",
       "    </tr>\n",
       "    <tr>\n",
       "      <th>1</th>\n",
       "      <td>6</td>\n",
       "      <td>what is trans fat? how to reduce that? i heard...</td>\n",
       "      <td>[what, is, trans, fat, how, to, reduce, that, ...</td>\n",
       "      <td>trans tras body food</td>\n",
       "      <td>WP VBZ NNS JJ WRB TO VB IN PRP VBP IN NNS VBP ...</td>\n",
       "      <td>what is trans fat how to reduce that i heard t...</td>\n",
       "    </tr>\n",
       "    <tr>\n",
       "      <th>2</th>\n",
       "      <td>1</td>\n",
       "      <td>roth ira vs 401k? what is the difference betwe...</td>\n",
       "      <td>[roth, ira, vs, 401k, what, is, the, differenc...</td>\n",
       "      <td>roth ira v difference roth ira prefer</td>\n",
       "      <td>NN NN NNS CD WP VBZ DT NN IN NN NN CC CD WRB M...</td>\n",
       "      <td>roth ira vs 401k what is the difference betwee...</td>\n",
       "    </tr>\n",
       "    <tr>\n",
       "      <th>3</th>\n",
       "      <td>1</td>\n",
       "      <td>how many planes fedex has? i heard that it is ...</td>\n",
       "      <td>[how, many, planes, fedex, has, i, heard, that...</td>\n",
       "      <td>plane fedex airline world</td>\n",
       "      <td>WRB JJ NNS NN VBZ PRP VBP IN PRP VBZ DT JJS NN...</td>\n",
       "      <td>how many planes fedex has i heard that it is t...</td>\n",
       "    </tr>\n",
       "    <tr>\n",
       "      <th>4</th>\n",
       "      <td>2</td>\n",
       "      <td>what is the best photo slideshow creation appl...</td>\n",
       "      <td>[what, is, the, best, photo, slideshow, creati...</td>\n",
       "      <td>photo slideshow creation application photo sli...</td>\n",
       "      <td>WP VBZ DT JJS NN NN NN NN WP VBZ DT JJS NN NN ...</td>\n",
       "      <td>what is the best photo slideshow creation appl...</td>\n",
       "    </tr>\n",
       "  </tbody>\n",
       "</table>\n",
       "</div>"
      ],
      "text/plain": [
       "   Category                                               Text  \\\n",
       "0         5         why are yawns contagious? when people yawn   \n",
       "1         6  what is trans fat? how to reduce that? i heard...   \n",
       "2         1  roth ira vs 401k? what is the difference betwe...   \n",
       "3         1  how many planes fedex has? i heard that it is ...   \n",
       "4         2  what is the best photo slideshow creation appl...   \n",
       "\n",
       "                                              Tokens  \\\n",
       "0  [why, are, yawns, contagious, when, people, yawn]   \n",
       "1  [what, is, trans, fat, how, to, reduce, that, ...   \n",
       "2  [roth, ira, vs, 401k, what, is, the, differenc...   \n",
       "3  [how, many, planes, fedex, has, i, heard, that...   \n",
       "4  [what, is, the, best, photo, slideshow, creati...   \n",
       "\n",
       "                                               Nouns  \\\n",
       "0                                        yawn people   \n",
       "1                               trans tras body food   \n",
       "2              roth ira v difference roth ira prefer   \n",
       "3                          plane fedex airline world   \n",
       "4  photo slideshow creation application photo sli...   \n",
       "\n",
       "                                                 POS  \\\n",
       "0                         WRB VBP NNS JJ WRB NNS VBP   \n",
       "1  WP VBZ NNS JJ WRB TO VB IN PRP VBP IN NNS VBP ...   \n",
       "2  NN NN NNS CD WP VBZ DT NN IN NN NN CC CD WRB M...   \n",
       "3  WRB JJ NNS NN VBZ PRP VBP IN PRP VBZ DT JJS NN...   \n",
       "4  WP VBZ DT JJS NN NN NN NN WP VBZ DT JJS NN NN ...   \n",
       "\n",
       "                                         TokenString  \n",
       "0          why are yawns contagious when people yawn  \n",
       "1  what is trans fat how to reduce that i heard t...  \n",
       "2  roth ira vs 401k what is the difference betwee...  \n",
       "3  how many planes fedex has i heard that it is t...  \n",
       "4  what is the best photo slideshow creation appl...  "
      ]
     },
     "execution_count": 8,
     "metadata": {},
     "output_type": "execute_result"
    }
   ],
   "source": [
    "#get data and add features\n",
    "df = get_data()\n",
    "df = add_features(df)\n",
    "df.head()"
   ]
  },
  {
   "cell_type": "code",
   "execution_count": 9,
   "metadata": {
    "collapsed": true
   },
   "outputs": [],
   "source": [
    "#combine columns\n",
    "df['TokensNouns'] = df[['TokenString', 'Nouns']].apply(lambda x: ' '.join(x), axis=1)"
   ]
  },
  {
   "cell_type": "code",
   "execution_count": 10,
   "metadata": {
    "collapsed": false
   },
   "outputs": [
    {
     "data": {
      "text/plain": [
       "'why are yawns contagious when people yawn yawn people'"
      ]
     },
     "execution_count": 10,
     "metadata": {},
     "output_type": "execute_result"
    }
   ],
   "source": [
    "df['TokensNouns'][0]"
   ]
  },
  {
   "cell_type": "markdown",
   "metadata": {},
   "source": [
    "## grid search with CV"
   ]
  },
  {
   "cell_type": "code",
   "execution_count": 17,
   "metadata": {
    "collapsed": false
   },
   "outputs": [
    {
     "name": "stdout",
     "output_type": "stream",
     "text": [
      "Fitting 10 folds for each of 18 candidates, totalling 180 fits\n"
     ]
    },
    {
     "name": "stderr",
     "output_type": "stream",
     "text": [
      "[Parallel(n_jobs=-1)]: Done   1 jobs       | elapsed:    1.8s\n",
      "[Parallel(n_jobs=-1)]: Done  50 jobs       | elapsed:   49.4s\n",
      "[Parallel(n_jobs=-1)]: Done 174 out of 180 | elapsed:  2.7min remaining:    5.6s\n",
      "[Parallel(n_jobs=-1)]: Done 180 out of 180 | elapsed:  2.7min finished\n"
     ]
    },
    {
     "name": "stdout",
     "output_type": "stream",
     "text": [
      "svm:\n",
      "\tbest score: 0.4397031539888683\n",
      "parameters: {'clf__C': 1000.0, 'vect__analyzer': 'word', 'vect__ngram_range': (1, 1)}\n",
      "Fitting 10 folds for each of 24 candidates, totalling 240 fits\n"
     ]
    },
    {
     "name": "stderr",
     "output_type": "stream",
     "text": [
      "[Parallel(n_jobs=-1)]: Done   1 jobs       | elapsed:    0.9s\n",
      "[Parallel(n_jobs=-1)]: Done  50 jobs       | elapsed:   24.5s\n",
      "[Parallel(n_jobs=-1)]: Done 200 jobs       | elapsed:  2.4min\n",
      "[Parallel(n_jobs=-1)]: Done 234 out of 240 | elapsed:  2.5min remaining:    3.9s\n",
      "[Parallel(n_jobs=-1)]: Done 240 out of 240 | elapsed:  2.5min finished\n"
     ]
    },
    {
     "name": "stdout",
     "output_type": "stream",
     "text": [
      "log:\n",
      "\tbest score: 0.562152133580705\n",
      "parameters: {'clf__C': 1000.0, 'vect__analyzer': 'word', 'vect__ngram_range': (1, 3)}\n",
      "Fitting 10 folds for each of 8 candidates, totalling 80 fits\n"
     ]
    },
    {
     "name": "stderr",
     "output_type": "stream",
     "text": [
      "[Parallel(n_jobs=-1)]: Done   1 jobs       | elapsed:    0.6s\n",
      "[Parallel(n_jobs=-1)]: Done  50 jobs       | elapsed:    8.9s\n",
      "[Parallel(n_jobs=-1)]: Done  74 out of  80 | elapsed:   11.2s remaining:    0.9s\n",
      "[Parallel(n_jobs=-1)]: Done  80 out of  80 | elapsed:   11.5s finished\n"
     ]
    },
    {
     "name": "stdout",
     "output_type": "stream",
     "text": [
      "nb:\n",
      "\tbest score: 0.4725417439703154\n",
      "parameters: {'vect__analyzer': 'word', 'vect__ngram_range': (1, 1)}\n"
     ]
    }
   ],
   "source": [
    "pipeline, parameters = [dict() for i in range(2)]\n",
    "#set up cross validation folds\n",
    "cv = StratifiedShuffleSplit(df.Category, n_iter=10, test_size=.2) \n",
    "\n",
    "#analysis pipeline with SVM\n",
    "pipeline['svm'] = Pipeline([\n",
    "    ('vect', CountVectorizer(stop_words = ENGLISH_STOP_WORDS)),\n",
    "    ('tfidf', TfidfTransformer(use_idf = True)),\n",
    "    ('clf', SVC(kernel = 'rbf')), \n",
    "])\n",
    "parameters['svm'] = {\n",
    "    'vect__ngram_range': ((1, 1), (1,3), (5, 5)),\n",
    "    'vect__analyzer' : ('char_wb','word'),\n",
    "    'clf__C': (1, 1e3, 1e-3)}\n",
    "\n",
    "\n",
    "#analysis pipeline with logistic regression\n",
    "pipeline['log'] = Pipeline([\n",
    "    ('vect', CountVectorizer(stop_words = ENGLISH_STOP_WORDS)),\n",
    "    ('tfidf', TfidfTransformer(use_idf = True)),\n",
    "    ('clf', LogisticRegression(penalty = 'l2', solver = 'lbfgs', multi_class = 'multinomial'))\n",
    "])\n",
    "parameters['log'] = {\n",
    "    'vect__ngram_range': ((1, 1), (1,2), (1,3), (5, 5)),\n",
    "    'vect__analyzer' : ('char_wb','word'),\n",
    "    'clf__C': (1, 1e3, 1e-3)}\n",
    "\n",
    "#analysis pipeline with naive bayes\n",
    "pipeline['nb'] = Pipeline([\n",
    "    ('vect', CountVectorizer(stop_words = ENGLISH_STOP_WORDS)),\n",
    "    ('tfidf', TfidfTransformer(use_idf = True)),\n",
    "    ('clf', MultinomialNB(fit_prior = True))])\n",
    "parameters['nb'] = {\n",
    "    'vect__ngram_range': ((1, 1), (1,2), (1,3), (5, 5)),\n",
    "    'vect__analyzer' : ('char_wb','word')}\n",
    "\n",
    "\n",
    "#fit grid search instance\n",
    "for m in ['svm','log','nb']:\n",
    "    gs_clf = GridSearchCV(pipeline[m], parameters[m], verbose = 1, cv = cv, n_jobs = -1)\n",
    "\n",
    "    gs_clf = gs_clf.fit(df['TokensNouns'], df.Category)\n",
    "\n",
    "    best_parameters, score, _ = max(gs_clf.grid_scores_, key=lambda x: x[1]) #find best params\n",
    "\n",
    "    print ('{0}:\\n\\tbest score: {1}\\nparameters: {2}'.format(m, score, best_parameters))"
   ]
  },
  {
   "cell_type": "markdown",
   "metadata": {},
   "source": [
    "## manually set parameters (no grid search)"
   ]
  },
  {
   "cell_type": "code",
   "execution_count": 307,
   "metadata": {
    "collapsed": false
   },
   "outputs": [],
   "source": [
    "## vectorize data\n",
    "#targets\n",
    "vec_tar = LabelEncoder()\n",
    "targets = vec_tar.fit_transform(df['Category'])\n",
    "#counts\n",
    "vec = CountVectorizer(analyzer = 'char_wb', ngram_range= (5,5), stop_words = ENGLISH_STOP_WORDS) #use character ngrmas more robust against mispellings (ngrams within word boundaries)\n",
    "\n",
    "counts = vec.fit_transform(df['Text']) "
   ]
  },
  {
   "cell_type": "code",
   "execution_count": 308,
   "metadata": {
    "collapsed": false,
    "scrolled": true
   },
   "outputs": [
    {
     "data": {
      "text/plain": [
       "[' bath', ' batm', ' batt', ' bay ', ' bbl ']"
      ]
     },
     "execution_count": 308,
     "metadata": {},
     "output_type": "execute_result"
    }
   ],
   "source": [
    "feature_labels = vec.get_feature_names()\n",
    "feature_labels[495:500]"
   ]
  },
  {
   "cell_type": "code",
   "execution_count": 309,
   "metadata": {
    "collapsed": false
   },
   "outputs": [
    {
     "name": "stdout",
     "output_type": "stream",
     "text": [
      "\n",
      "Linear SVM\n",
      "\t mean score: 0.5688888888888888\n"
     ]
    }
   ],
   "source": [
    "## cv folds\n",
    "cv = StratifiedShuffleSplit(targets, n_iter=10, test_size=.1)\n",
    "\n",
    "## calculate tf-idf\n",
    "tfidf_transformer = TfidfTransformer()\n",
    "counts_tfidf = tfidf_transformer.fit_transform(counts)\n",
    "\n",
    "#svm\n",
    "mod = SGDClassifier(loss = 'hinge',penalty = 'L2',alpha = 1e-3)\n",
    "scores = []\n",
    "for tr, tt in cv:\n",
    "    mod.fit(counts_tfidf[tr], targets[tr])\n",
    "    scores.append(mod.score(counts_tfidf[tt],targets[tt]))\n",
    "print('\\nLinear SVM\\n\\t mean score: {0}'.format(np.mean(scores)))"
   ]
  },
  {
   "cell_type": "markdown",
   "metadata": {},
   "source": [
    "## other stuff not currently used"
   ]
  },
  {
   "cell_type": "code",
   "execution_count": null,
   "metadata": {
    "collapsed": true
   },
   "outputs": [],
   "source": [
    "## vectorize data\n",
    "#targets\n",
    "vec_tar = LabelEncoder()\n",
    "targets = vec_tar.fit_transform(df['Category'])\n",
    "#counts\n",
    "vec = CountVectorizer(analyzer = 'char_wb', ngram_range= (5,5), stop_words = ENGLISH_STOP_WORDS) \n",
    "counts = vec.fit_transform(df['TokensNouns']) \n",
    "\n",
    "## cv folds\n",
    "cv = StratifiedShuffleSplit(targets, n_iter=10, test_size=.1)\n",
    "\n",
    "## calculate tf-idf\n",
    "tfidf_transformer = TfidfTransformer()\n",
    "counts_tfidf = tfidf_transformer.fit_transform(counts)\n",
    "\n",
    "#nb\n",
    "mod = MultinomialNB(alpha=1.0, fit_prior=True, class_prior=None)\n",
    "scores = []\n",
    "for tr, tt in cv:\n",
    "    mod.fit(counts_tfidf[tr], targets[tr])\n",
    "    scores.append(mod.score(counts_tfidf[tt],targets[tt]))\n",
    "print('\\nNaive Bayes\\n\\t mean score: {0}'.format(np.mean(scores)))\n"
   ]
  },
  {
   "cell_type": "code",
   "execution_count": 244,
   "metadata": {
    "collapsed": false
   },
   "outputs": [
    {
     "name": "stdout",
     "output_type": "stream",
     "text": [
      "\n",
      "Linear SVC\n",
      "\tmean score: 0.49407407407407405\n",
      "\n",
      "Naive Bayes\n",
      "\t mean score: 0.4681481481481482\n",
      "\n",
      "Linear SVM\n",
      "\t mean score: 0.571111111111111\n"
     ]
    },
    {
     "data": {
      "text/plain": [
       "\"\\n#decision tree\\nmod = DecisionTreeClassifier(criterion = 'entropy')\\ncv = StratifiedShuffleSplit(targets, n_iter = 10, test_size = 0.1)\\n\\nscores = []\\nfor tr, tt in cv:\\n    mod.fit(counts[tr], targets[tr])\\n    scores.append(mod.score(counts[tt],targets[tt]))\\nprint('\\nDecision Tree\\n\\t mean score: {0}'.format(np.mean(scores)))\\n\""
      ]
     },
     "execution_count": 244,
     "metadata": {},
     "output_type": "execute_result"
    }
   ],
   "source": [
    "'''\n",
    "#linear SVC\n",
    "mod = LinearSVC(C=.1)\n",
    "scores = []\n",
    "for tr, tt in cv:\n",
    "    mod.fit(counts_tfidf[tr], targets[tr])\n",
    "    scores.append(mod.score(counts_tfidf[tt],targets[tt]))\n",
    "print('\\nLinear SVC\\n\\tmean score: {0}'.format(np.mean(scores)))\n",
    "\n",
    "#naive bayes\n",
    "mod = MultinomialNB(alpha=1.0, fit_prior=True, class_prior=None)\n",
    "scores = []\n",
    "for tr, tt in cv:\n",
    "    mod.fit(counts_tfidf[tr], targets[tr])\n",
    "    scores.append(mod.score(counts_tfidf[tt],targets[tt]))\n",
    "print('\\nNaive Bayes\\n\\t mean score: {0}'.format(np.mean(scores)))\n",
    "\n",
    "\n",
    "#decision tree\n",
    "mod = DecisionTreeClassifier(criterion = 'entropy')\n",
    "cv = StratifiedShuffleSplit(targets, n_iter = 10, test_size = 0.1)\n",
    "\n",
    "scores = []\n",
    "for tr, tt in cv:\n",
    "    mod.fit(counts[tr], targets[tr])\n",
    "    scores.append(mod.score(counts[tt],targets[tt]))\n",
    "print('\\nDecision Tree\\n\\t mean score: {0}'.format(np.mean(scores)))\n",
    "'''"
   ]
  },
  {
   "cell_type": "code",
   "execution_count": 245,
   "metadata": {
    "collapsed": false
   },
   "outputs": [
    {
     "name": "stdout",
     "output_type": "stream",
     "text": [
      "counts    235\n",
      "Name:  does, dtype: int64\n"
     ]
    },
    {
     "data": {
      "text/plain": [
       "counts    211\n",
       "Name:  does , dtype: int64"
      ]
     },
     "execution_count": 245,
     "metadata": {},
     "output_type": "execute_result"
    }
   ],
   "source": [
    "#top features\n",
    "feature_sum = counts.toarray().sum(axis=0)\n",
    "\n",
    "df_feature_sum = pd.DataFrame({'counts': feature_sum})\n",
    "df_feature_sum.index = vec.get_feature_names()\n",
    "\n",
    "print (df_feature_sum.sort('counts', ascending=False).iloc[1])\n",
    "df_feature_sum.sort('counts', ascending=False).iloc[3]\n",
    "#problem - words followed by spaces"
   ]
  },
  {
   "cell_type": "code",
   "execution_count": 246,
   "metadata": {
    "collapsed": false
   },
   "outputs": [
    {
     "data": {
      "image/png": "[encoded data removed]",
      "text/plain": [
       "<matplotlib.figure.Figure at 0x110975590>"
      ]
     },
     "metadata": {},
     "output_type": "display_data"
    }
   ],
   "source": [
    "df_feature_sum.sort('counts', ascending=False)[:50].plot(kind='barh', figsize=(7,10));"
   ]
  },
  {
   "cell_type": "code",
   "execution_count": 69,
   "metadata": {
    "collapsed": false
   },
   "outputs": [
    {
     "data": {
      "text/plain": [
       "[<matplotlib.lines.Line2D at 0x10c6a9550>,\n",
       " <matplotlib.lines.Line2D at 0x10c6a9910>,\n",
       " <matplotlib.lines.Line2D at 0x10c6a9b90>]"
      ]
     },
     "execution_count": 69,
     "metadata": {},
     "output_type": "execute_result"
    },
    {
     "data": {
      "image/png": "[encoded data removed]",
      "text/plain": [
       "<matplotlib.figure.Figure at 0x10c142410>"
      ]
     },
     "metadata": {},
     "output_type": "display_data"
    }
   ],
   "source": [
    "#each color is a question, x axis is the words, y axis is the counts (like histogram)\n",
    "plt.plot(counts[:3,:].toarray().T)"
   ]
  },
  {
   "cell_type": "code",
   "execution_count": 119,
   "metadata": {
    "collapsed": false
   },
   "outputs": [],
   "source": [
    "top_words = {}\n",
    "for itrg in np.unique(targets):\n",
    "    cat = vec_tar.classes_[itrg]\n",
    "    # Pull rows for the current category, sum all rows (each element is a word)\n",
    "    icounts = counts[targets == itrg, :].sum(0).squeeze() \n",
    "    \n",
    "    # Which word counts occured >5 times\n",
    "    mask_top_words = icounts > 5\n",
    "    \n",
    "    # Turns vectors back into actual words (inverse transform - magical!)\n",
    "    top_words[cat] = vec.inverse_transform(mask_top_words)[0]"
   ]
  },
  {
   "cell_type": "code",
   "execution_count": 19,
   "metadata": {
    "collapsed": true
   },
   "outputs": [],
   "source": [
    "#keep words that are unique to that category\n",
    "unique_words = {}\n",
    "for cat, words in zip(top_words.keys(), top_words.values()):\n",
    "    others = top_words.copy()\n",
    "    others.pop(cat)\n",
    "    unique_words[cat] = [wrd for wrd in top_words[cat]\n",
    "                         if wrd not in np.hstack(others.values())]"
   ]
  },
  {
   "cell_type": "code",
   "execution_count": 153,
   "metadata": {
    "collapsed": false
   },
   "outputs": [
    {
     "name": "stdout",
     "output_type": "stream",
     "text": [
      "0.511111111111\n",
      "0.566666666667\n",
      "0.537037037037\n",
      "0.503703703704\n",
      "0.503703703704\n",
      "0.537037037037\n",
      "0.525925925926\n",
      "0.511111111111\n",
      "0.544444444444\n",
      "0.522222222222\n",
      "Linear SVC mean score: 0.5262962962962963\n"
     ]
    }
   ],
   "source": [
    "#try SVC\n",
    "mod = LinearSVC(C=.1)\n",
    "cv = StratifiedShuffleSplit(targets, n_iter=10, test_size=.1)\n",
    "\n",
    "coefs, scores = [[] for i in range(2)]\n",
    "for tr, tt in cv:\n",
    "    mod.fit(counts[tr], targets[tr])\n",
    "    coefs.append(mod.coef_)\n",
    "    print(mod.score(counts[tt], targets[tt]))\n",
    "    scores.append(mod.score(counts[tt],targets[tt]))\n",
    "coefs = np.array(coefs).mean(0)\n",
    "\n",
    "print('Linear SVC mean score: {0}'.format(np.mean(scores)))"
   ]
  },
  {
   "cell_type": "code",
   "execution_count": 154,
   "metadata": {
    "collapsed": false
   },
   "outputs": [
    {
     "name": "stdout",
     "output_type": "stream",
     "text": [
      "0.52962962963\n",
      "0.57037037037\n",
      "0.518518518519\n",
      "0.548148148148\n",
      "0.577777777778\n",
      "0.562962962963\n",
      "0.57037037037\n",
      "0.566666666667\n",
      "0.588888888889\n",
      "0.581481481481\n",
      "Naive Bayes mean score: 0.5438888888888889\n"
     ]
    }
   ],
   "source": [
    "#try Naive Bayes\n",
    "mod = MultinomialNB(alpha=1.0, fit_prior=True, class_prior=None)\n",
    "cv = StratifiedShuffleSplit(targets, n_iter = 10, test_size = 0.1)\n",
    "\n",
    "coefs = []\n",
    "for tr, tt in cv:\n",
    "    mod.fit(counts[tr], targets[tr])\n",
    "    coefs.append(mod.coef_)\n",
    "    print(mod.score(counts[tt], targets[tt]))\n",
    "    scores.append(mod.score(counts[tt],targets[tt]))\n",
    "coefs = np.array(coefs).mean(0)\n",
    "\n",
    "print('Naive Bayes mean score: {0}'.format(np.mean(scores)))"
   ]
  },
  {
   "cell_type": "code",
   "execution_count": 146,
   "metadata": {
    "collapsed": false
   },
   "outputs": [
    {
     "name": "stdout",
     "output_type": "stream",
     "text": [
      "1: [array(['best', 'does', 'good', 'know', 'like', 'make', 'need', 'people',\n",
      "       'want', 'yahoo'], \n",
      "      dtype='<U13')]\n",
      "2: [array(['best', 'computer', 'does', 'know', 'use', 'want', 'web', 'windows',\n",
      "       'xa', 'yahoo'], \n",
      "      dtype='<U13')]\n",
      "3: [array(['best', 'did', 'does', 'favorite', 'know', 'like', 'movie', 'music',\n",
      "       'song', 'xa'], \n",
      "      dtype='<U13')]\n",
      "4: [array(['boyfriend', 'does', 'friend', 'girl', 'guy', 'know', 'like',\n",
      "       'love', 'really', 'want'], \n",
      "      dtype='<U13')]\n",
      "5: [array(['best', 'college', 'does', 'good', 'help', 'know', 'need', 'school',\n",
      "       'word', 'xa'], \n",
      "      dtype='<U13')]\n",
      "6: [array(['bad', 'best', 'does', 'feel', 'good', 'help', 'know', 'like',\n",
      "       'pain', 'way'], \n",
      "      dtype='<U13')]\n",
      "7: [array(['does', 'earth', 'gas', 'life', 'make', 'really', 'tell', 'theory',\n",
      "       'world', 'xa'], \n",
      "      dtype='<U13')]\n"
     ]
    }
   ],
   "source": [
    "#look only at highly weighted\n",
    "for cat, icoef in zip(vec_tar.classes_, coefs):\n",
    "    cut = np.percentile(icoef, 99)\n",
    "    important = icoef > cut\n",
    "    print('{0}: {1}'.format(cat, vec.inverse_transform(important)))"
   ]
  },
  {
   "cell_type": "code",
   "execution_count": null,
   "metadata": {
    "collapsed": true
   },
   "outputs": [],
   "source": []
  }
 ],
 "metadata": {
  "kernelspec": {
   "display_name": "Python 3",
   "language": "python",
   "name": "python3"
  },
  "language_info": {
   "codemirror_mode": {
    "name": "ipython",
    "version": 3
   },
   "file_extension": ".py",
   "mimetype": "text/x-python",
   "name": "python",
   "nbconvert_exporter": "python",
   "pygments_lexer": "ipython3",
   "version": "3.3.5"
  }
 },
 "nbformat": 4,
 "nbformat_minor": 0
}
