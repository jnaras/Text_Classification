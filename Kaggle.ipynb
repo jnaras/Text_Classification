{
 "cells": [
  {
   "cell_type": "markdown",
   "metadata": {},
   "source": [
    "Best submission so far is ensemble with LinearSVC (not SVM), no max features, no KNN. (KNN hasn't been grid searched yet)."
   ]
  },
  {
   "cell_type": "code",
   "execution_count": 50,
   "metadata": {
    "collapsed": false
   },
   "outputs": [
    {
     "name": "stdout",
     "output_type": "stream",
     "text": [
      "Once deleted, variables cannot be recovered. Proceed (y/[n])? y\n"
     ]
    }
   ],
   "source": [
    "%reset"
   ]
  },
  {
   "cell_type": "code",
   "execution_count": 51,
   "metadata": {
    "collapsed": false,
    "scrolled": true
   },
   "outputs": [
    {
     "name": "stdout",
     "output_type": "stream",
     "text": [
      "Using matplotlib backend: MacOSX\n"
     ]
    }
   ],
   "source": [
    "%matplotlib"
   ]
  },
  {
   "cell_type": "code",
   "execution_count": 52,
   "metadata": {
    "collapsed": true
   },
   "outputs": [],
   "source": [
    "\n",
    "import seaborn as sns\n",
    "from matplotlib import pyplot as plt\n",
    "import matplotlib as mpl\n",
    "import numpy as np\n",
    "%matplotlib inline\n",
    "sns.set_palette('colorblind')\n",
    "sns.set_style('white')"
   ]
  },
  {
   "cell_type": "code",
   "execution_count": 99,
   "metadata": {
    "collapsed": false
   },
   "outputs": [],
   "source": [
    "import pandas as pd\n",
    "import nltk\n",
    "import string\n",
    "\n",
    "from sklearn.neighbors import KNeighborsClassifier\n",
    "from sklearn.feature_extraction.text import CountVectorizer, TfidfTransformer, TfidfVectorizer\n",
    "from sklearn.preprocessing import LabelEncoder\n",
    "from sklearn.svm import LinearSVC, SVC\n",
    "from sklearn.cross_validation import StratifiedShuffleSplit, train_test_split\n",
    "from sklearn.feature_extraction.stop_words import ENGLISH_STOP_WORDS\n",
    "from sklearn.naive_bayes import MultinomialNB\n",
    "from sklearn.linear_model import SGDClassifier\n",
    "from sklearn.naive_bayes import MultinomialNB\n",
    "from sklearn.linear_model import LogisticRegression\n",
    "from sklearn.metrics import accuracy_score, classification_report,confusion_matrix "
   ]
  },
  {
   "cell_type": "code",
   "execution_count": 54,
   "metadata": {
    "collapsed": false
   },
   "outputs": [],
   "source": [
    "from nltk.corpus import brown"
   ]
  },
  {
   "cell_type": "code",
   "execution_count": 55,
   "metadata": {
    "collapsed": true
   },
   "outputs": [],
   "source": [
    "from collections import Counter"
   ]
  },
  {
   "cell_type": "code",
   "execution_count": 56,
   "metadata": {
    "collapsed": true
   },
   "outputs": [],
   "source": [
    "from random import shuffle"
   ]
  },
  {
   "cell_type": "code",
   "execution_count": 57,
   "metadata": {
    "collapsed": false,
    "scrolled": true
   },
   "outputs": [],
   "source": [
    "def get_data():\n",
    "    df = pd.read_csv('newtrain.csv')\n",
    "    return df"
   ]
  },
  {
   "cell_type": "code",
   "execution_count": 58,
   "metadata": {
    "collapsed": true
   },
   "outputs": [],
   "source": [
    "def get_test_data():\n",
    "    df = pd.read_csv('newtest.csv')\n",
    "    return df"
   ]
  },
  {
   "cell_type": "code",
   "execution_count": 59,
   "metadata": {
    "collapsed": false
   },
   "outputs": [],
   "source": [
    "def add_features(df):\n",
    "\n",
    "    #tokenize text\n",
    "    pattern = r'''(?x)    # set flag to allow verbose regexps\n",
    "         ([A-Z]\\.)+        # abbreviations, e.g. U.S.A.\n",
    "       | \\w+([-']\\w+)*        # words with optional internal hyphens\n",
    "       | \\$?\\d+(\\.\\d+)?%?  # currency and percentages, e.g. $12.40, 82%\n",
    "       | [!\"#$%&\\'()*+,-./:;<=>?@[\\\\]^_`{|}~]+  # these are separate tokens (string.punctuation)\n",
    "     '''\n",
    "    tokenize = lambda text: nltk.regexp_tokenize(text, pattern)\n",
    "    df['Tokens'] = df['Text'].apply(tokenize)\n",
    "    \n",
    "    def pos_tag(text):\n",
    "        tuples = nltk.pos_tag(text)\n",
    "        tags = []\n",
    "        for t in tuples:\n",
    "            tags.append(t[1])\n",
    "        return tags\n",
    "    \n",
    "    def get_nouns(text):\n",
    "        wnlemmatizer = nltk.WordNetLemmatizer()\n",
    "        tuples = nltk.pos_tag(text)\n",
    "        tags = []\n",
    "        for t in tuples:\n",
    "            if t[1][0] == 'N':\n",
    "                tags.append(wnlemmatizer.lemmatize(t[0]))\n",
    "        return tags\n",
    "    df['Nouns'] = df['Tokens'].apply(get_nouns)\n",
    "    df['POS'] = df['Tokens'].apply(pos_tag)\n",
    "    make_string = lambda a: ' '.join(i for i in a)\n",
    "    df['Nouns'] = df['Nouns'].apply(make_string)\n",
    "    df['POS'] = df['POS'].apply(make_string)\n",
    "    \n",
    "    df['TokenString'] = df['Tokens'].apply(make_string)\n",
    "    \n",
    "    df['TokensNouns'] = df[['TokenString', 'Nouns']].apply(lambda x: ' '.join(x), axis=1)\n",
    "    \n",
    "    return df"
   ]
  },
  {
   "cell_type": "code",
   "execution_count": 102,
   "metadata": {
    "collapsed": false
   },
   "outputs": [],
   "source": [
    "#vectorize data\n",
    "#turns words into a list of vectors - vector length is the total number of words\n",
    "#Vector elements correspond to 1 word (1/0 if word is/not present in the current item)\n",
    "def featurize(df, test_df, count_vec):\n",
    "    #count_vec = CountVectorizer(max_features=max_f, analyzer = 'char_wb', ngram_range= (5,5), stop_words = ENGLISH_STOP_WORDS)\n",
    "    noun_vec = CountVectorizer(analyzer = 'char_wb')\n",
    "    pos_vec = CountVectorizer()\n",
    "    vec_tar = LabelEncoder()\n",
    "    targets = df['Category']\n",
    "        \n",
    "    counts = count_vec.fit_transform(df['TokensNouns'])\n",
    "    #print(\"Counts shape: \" + str(counts.shape))\n",
    "    nouns = noun_vec.fit_transform(df['Nouns'])\n",
    "    #print(\"Nouns shape: \" + str(nouns.shape))\n",
    "    pos = pos_vec.fit_transform(df['POS'])\n",
    "    #print(\"POS shape: \" + str(pos.shape))\n",
    "    \n",
    "    \n",
    "    tfidf_transformer = TfidfTransformer()\n",
    "    tfidf = tfidf_transformer.fit_transform(counts)\n",
    "    \n",
    "    \n",
    "    test = count_vec.transform(test_df['TokensNouns'])\n",
    "    test = tfidf_transformer.transform(test)\n",
    "    test_nouns = noun_vec.transform(test_df['Nouns'])\n",
    "    test_pos = pos_vec.transform(test_df['POS'])\n",
    "    \n",
    "    #To combine or not to combine\n",
    "    nouns_array = nouns.toarray()\n",
    "    pos_array = pos.toarray()\n",
    "    counts_array = counts.toarray()\n",
    "    #combined = np.hstack((nouns_array, pos_array))\n",
    "    combined = np.hstack((nouns_array, pos_array))\n",
    "    \n",
    "    tnouns_array = test_nouns.toarray()\n",
    "    tpos_array = test_pos.toarray()\n",
    "    tcounts_array = test.toarray()\n",
    "    \n",
    "    #tcombined = np.hstack((tnouns_array, tpos_array))\n",
    "    tcombined = np.hstack((tnouns_array, tpos_array))\n",
    "    \n",
    "    return tfidf, test"
   ]
  },
  {
   "cell_type": "code",
   "execution_count": 108,
   "metadata": {
    "collapsed": true
   },
   "outputs": [],
   "source": [
    "# Takes in training data, training labels, predicts labels for xtest using three methods.\n",
    "def ensemble_predictor(df, test_df): \n",
    "    mod1 = LinearSVC(C=1000) #vec analyzer = word, ngram(1,1)\n",
    "    mod2 = MultinomialNB(alpha=1.0, fit_prior=True, class_prior=None)\n",
    "    mod3 = LogisticRegression(C=1000)#vec analyzer = word, ngram(1,3)\n",
    "    mod4 = KNeighborsClassifier(n_neighbors=5)\n",
    "    \n",
    "    ytrain = df['Category']\n",
    "    xtrain1, xtest1 = featurize(df, test_df, CountVectorizer(analyzer='word', ngram_range=(1,1)))\n",
    "    xtrain2, xtest2 = featurize(df, test_df, CountVectorizer(analyzer='word', ngram_range=(1,1)))\n",
    "    xtrain3, xtest3 = featurize(df, test_df, CountVectorizer(analyzer='word', ngram_range=(1,3)))\n",
    "    xtrain4, xtest4 = featurize(df, test_df, CountVectorizer(analyzer='word', ngram_range=(1,3)))\n",
    "    \n",
    "    \n",
    "    mod1.fit(xtrain1, ytrain)\n",
    "    mod2.fit(xtrain2, ytrain)\n",
    "    mod3.fit(xtrain3, ytrain)\n",
    "    mod4.fit(xtrain4, ytrain)\n",
    "    \n",
    "    y1 = mod1.predict(xtest1)\n",
    "    y2 = mod2.predict(xtest2)\n",
    "    y3 = mod3.predict(xtest3)\n",
    "    y4 = mod4.predict(xtest4)\n",
    "    \n",
    "    votes = zip(y1, y2, y3, y4)\n",
    "    \n",
    "    ypredicted = []\n",
    "    count = 0\n",
    "    for v in votes:\n",
    "        v = list(v)\n",
    "        shuffle(v)\n",
    "        p = max(set(v), key=v.count)\n",
    "        if len(np.unique(v)) == len(v):\n",
    "            count += 1\n",
    "        ypredicted.append(p)\n",
    "    print(\"count: \" + str(count))\n",
    "    print(\"total number of predictions: \" + str(len(ypredicted)))\n",
    "    return ypredicted"
   ]
  },
  {
   "cell_type": "code",
   "execution_count": 100,
   "metadata": {
    "collapsed": false
   },
   "outputs": [],
   "source": [
    "#evaluate using 10 fold cross-validation, inspect results\n",
    "#KNN WITH CV#\n",
    "def cross_validate(targets, df):\n",
    "    #SVC\n",
    "    mod = SVC(C=1000)\n",
    "    cv = StratifiedShuffleSplit(targets, n_iter=10, test_size=.1)\n",
    "    \n",
    "    scores = []\n",
    "    for tr, tt in cv:\n",
    "        train = df.loc[tr]\n",
    "        test = df.loc[tt]\n",
    "        result = featurize(train, test, CountVectorizer(analyzer='word', ngram_range=(1,1)))\n",
    "        xtrain = result[0]\n",
    "        xtest = result[1]\n",
    "        mod.fit(xtrain, targets[tr])\n",
    "        scores.append(mod.score(xtest, targets[tt]))\n",
    "\n",
    "    print('\\nLinear SVC\\n\\t mean score: {0}'.format(np.mean(scores)))\n",
    "    \n",
    "    \n",
    "    #naive bayes\n",
    "    mod = MultinomialNB(alpha=1.0, fit_prior=True)\n",
    "    scores = []\n",
    "    for tr, tt in cv:\n",
    "        train = df.loc[tr]\n",
    "        test = df.loc[tt]\n",
    "        result = featurize(train, test, CountVectorizer(analyzer='word', ngram_range=(1,1)))\n",
    "        xtrain = result[0]\n",
    "        xtest = result[1]\n",
    "        mod.fit(xtrain, targets[tr])\n",
    "        scores.append(mod.score(xtest, targets[tt]))\n",
    "    print('\\nNaive Bayes\\n\\t mean score: {0}'.format(np.mean(scores)))\n",
    "    \n",
    "    \n",
    "    mod = LogisticRegression(C=1000)\n",
    "    scores = []\n",
    "    for tr, tt in cv:\n",
    "        train = df.loc[tr]\n",
    "        test = df.loc[tt]\n",
    "        result = featurize(train, test, CountVectorizer(analyzer='word', ngram_range=(1,3)))\n",
    "        xtrain = result[0]\n",
    "        xtest = result[1]\n",
    "        mod.fit(xtrain, targets[tr])\n",
    "        scores.append(mod.score(xtest, targets[tt]))\n",
    "    print('\\nLogReg\\n\\t mean score: {0}'.format(np.mean(scores)))\n",
    "    \n",
    "    \n",
    "    mod = KNeighborsClassifier(n_neighbors=5)\n",
    "    scores = []\n",
    "    for tr, tt in cv:\n",
    "        train = df.loc[tr]\n",
    "        test = df.loc[tt]\n",
    "        result = featurize(train, test, CountVectorizer(analyzer='word', ngram_range=(1,3)))\n",
    "        xtrain = result[0]\n",
    "        xtest = result[1]\n",
    "        mod.fit(xtrain, targets[tr])\n",
    "        scores.append(mod.score(xtest, targets[tt]))\n",
    "    print('\\nKNN\\n\\t mean score: {0}'.format(np.mean(scores)))\n",
    "    \n",
    "    \n",
    "    \n",
    "    scores = []\n",
    "    for tr, tt in cv:\n",
    "        train = df.loc[tr]\n",
    "        test = df.loc[tt]\n",
    "        predictions = ensemble_predictor(train, test)\n",
    "        scores.append(accuracy_score(targets[tt], predictions))\n",
    "    print('\\nEnsemble Predictor\\n\\t mean score: {0}'.format(np.mean(scores)))\n",
    "    \n"
   ]
  },
  {
   "cell_type": "code",
   "execution_count": 63,
   "metadata": {
    "collapsed": true
   },
   "outputs": [],
   "source": [
    "def plot_confusion_matrix(cm, title, target_names, cmap=plt.cm.coolwarm):\n",
    "    plt.figure(figsize=(8,8))\n",
    "    plt.imshow(cm, interpolation='nearest', cmap=cmap)\n",
    "    plt.title(title)\n",
    "    plt.colorbar()\n",
    "    tick_marks = np.arange(len(target_names))\n",
    "    plt.xticks(tick_marks, target_names, rotation=45)\n",
    "    plt.yticks(tick_marks, target_names)\n",
    "    plt.tight_layout()\n",
    "    plt.ylabel('True label')\n",
    "    plt.xlabel('Predicted label')"
   ]
  },
  {
   "cell_type": "code",
   "execution_count": 64,
   "metadata": {
    "collapsed": true
   },
   "outputs": [],
   "source": [
    "def examine_classification(model):\n",
    "    result = get_labels_features(df, 1000)\n",
    "    y = result[0]\n",
    "    x = result[1]\n",
    "    xtrain, xtest, ytrain, ytest = train_test_split(x, labels, test_size=0.33, random_state=99)\n",
    "    \n",
    "    model.fit(xtrain, ytrain)\n",
    "    ypredicted = model.predict(xtest)\n",
    "    print(accuracy_score(ytest, ypredicted))\n",
    "    print()\n",
    "    print(pd.crosstab(ytest, ypredicted, \n",
    "            rownames=['True'], colnames=['Predicted'], \n",
    "            margins=True))\n",
    "    print()\n",
    "    cm = confusion_matrix(ytest, ypredicted)\n",
    "    plot_confusion_matrix(cm, \"Confusion Matrix\", range(1,8))"
   ]
  },
  {
   "cell_type": "code",
   "execution_count": 65,
   "metadata": {
    "collapsed": false,
    "scrolled": true
   },
   "outputs": [
    {
     "data": {
      "text/html": [
       "<div>\n",
       "<table border=\"1\" class=\"dataframe\">\n",
       "  <thead>\n",
       "    <tr style=\"text-align: right;\">\n",
       "      <th></th>\n",
       "      <th>Category</th>\n",
       "      <th>Text</th>\n",
       "      <th>Tokens</th>\n",
       "      <th>Nouns</th>\n",
       "      <th>POS</th>\n",
       "      <th>TokenString</th>\n",
       "      <th>TokensNouns</th>\n",
       "    </tr>\n",
       "  </thead>\n",
       "  <tbody>\n",
       "    <tr>\n",
       "      <th>0</th>\n",
       "      <td>5</td>\n",
       "      <td>why are yawns contagious? when people yawn</td>\n",
       "      <td>[why, are, yawns, contagious, when, people, yawn]</td>\n",
       "      <td>yawn people</td>\n",
       "      <td>WRB VBP NNS JJ WRB NNS VBP</td>\n",
       "      <td>why are yawns contagious when people yawn</td>\n",
       "      <td>why are yawns contagious when people yawn yawn...</td>\n",
       "    </tr>\n",
       "    <tr>\n",
       "      <th>1</th>\n",
       "      <td>6</td>\n",
       "      <td>what is trans fat? how to reduce that? i heard...</td>\n",
       "      <td>[what, is, trans, fat, how, to, reduce, that, ...</td>\n",
       "      <td>trans tras body food</td>\n",
       "      <td>WP VBZ NNS JJ WRB TO VB IN PRP VBP IN NNS VBP ...</td>\n",
       "      <td>what is trans fat how to reduce that i heard t...</td>\n",
       "      <td>what is trans fat how to reduce that i heard t...</td>\n",
       "    </tr>\n",
       "    <tr>\n",
       "      <th>2</th>\n",
       "      <td>1</td>\n",
       "      <td>roth ira vs 401k? what is the difference betwe...</td>\n",
       "      <td>[roth, ira, vs, 401k, what, is, the, differenc...</td>\n",
       "      <td>roth ira v difference roth ira prefer</td>\n",
       "      <td>NN NN NNS CD WP VBZ DT NN IN NN NN CC CD WRB M...</td>\n",
       "      <td>roth ira vs 401k what is the difference betwee...</td>\n",
       "      <td>roth ira vs 401k what is the difference betwee...</td>\n",
       "    </tr>\n",
       "    <tr>\n",
       "      <th>3</th>\n",
       "      <td>1</td>\n",
       "      <td>how many planes fedex has? i heard that it is ...</td>\n",
       "      <td>[how, many, planes, fedex, has, i, heard, that...</td>\n",
       "      <td>plane fedex airline world</td>\n",
       "      <td>WRB JJ NNS NN VBZ PRP VBP IN PRP VBZ DT JJS NN...</td>\n",
       "      <td>how many planes fedex has i heard that it is t...</td>\n",
       "      <td>how many planes fedex has i heard that it is t...</td>\n",
       "    </tr>\n",
       "    <tr>\n",
       "      <th>4</th>\n",
       "      <td>2</td>\n",
       "      <td>what is the best photo slideshow creation appl...</td>\n",
       "      <td>[what, is, the, best, photo, slideshow, creati...</td>\n",
       "      <td>photo slideshow creation application photo sli...</td>\n",
       "      <td>WP VBZ DT JJS NN NN NN NN WP VBZ DT JJS NN NN ...</td>\n",
       "      <td>what is the best photo slideshow creation appl...</td>\n",
       "      <td>what is the best photo slideshow creation appl...</td>\n",
       "    </tr>\n",
       "  </tbody>\n",
       "</table>\n",
       "</div>"
      ],
      "text/plain": [
       "   Category                                               Text  \\\n",
       "0         5         why are yawns contagious? when people yawn   \n",
       "1         6  what is trans fat? how to reduce that? i heard...   \n",
       "2         1  roth ira vs 401k? what is the difference betwe...   \n",
       "3         1  how many planes fedex has? i heard that it is ...   \n",
       "4         2  what is the best photo slideshow creation appl...   \n",
       "\n",
       "                                              Tokens  \\\n",
       "0  [why, are, yawns, contagious, when, people, yawn]   \n",
       "1  [what, is, trans, fat, how, to, reduce, that, ...   \n",
       "2  [roth, ira, vs, 401k, what, is, the, differenc...   \n",
       "3  [how, many, planes, fedex, has, i, heard, that...   \n",
       "4  [what, is, the, best, photo, slideshow, creati...   \n",
       "\n",
       "                                               Nouns  \\\n",
       "0                                        yawn people   \n",
       "1                               trans tras body food   \n",
       "2              roth ira v difference roth ira prefer   \n",
       "3                          plane fedex airline world   \n",
       "4  photo slideshow creation application photo sli...   \n",
       "\n",
       "                                                 POS  \\\n",
       "0                         WRB VBP NNS JJ WRB NNS VBP   \n",
       "1  WP VBZ NNS JJ WRB TO VB IN PRP VBP IN NNS VBP ...   \n",
       "2  NN NN NNS CD WP VBZ DT NN IN NN NN CC CD WRB M...   \n",
       "3  WRB JJ NNS NN VBZ PRP VBP IN PRP VBZ DT JJS NN...   \n",
       "4  WP VBZ DT JJS NN NN NN NN WP VBZ DT JJS NN NN ...   \n",
       "\n",
       "                                         TokenString  \\\n",
       "0          why are yawns contagious when people yawn   \n",
       "1  what is trans fat how to reduce that i heard t...   \n",
       "2  roth ira vs 401k what is the difference betwee...   \n",
       "3  how many planes fedex has i heard that it is t...   \n",
       "4  what is the best photo slideshow creation appl...   \n",
       "\n",
       "                                         TokensNouns  \n",
       "0  why are yawns contagious when people yawn yawn...  \n",
       "1  what is trans fat how to reduce that i heard t...  \n",
       "2  roth ira vs 401k what is the difference betwee...  \n",
       "3  how many planes fedex has i heard that it is t...  \n",
       "4  what is the best photo slideshow creation appl...  "
      ]
     },
     "execution_count": 65,
     "metadata": {},
     "output_type": "execute_result"
    }
   ],
   "source": [
    "df = get_data()\n",
    "df = add_features(df)\n",
    "df.head()"
   ]
  },
  {
   "cell_type": "code",
   "execution_count": 109,
   "metadata": {
    "collapsed": false,
    "scrolled": false
   },
   "outputs": [
    {
     "name": "stdout",
     "output_type": "stream",
     "text": [
      "\n",
      "Linear SVC\n",
      "\t mean score: 0.44185185185185183\n",
      "\n",
      "Naive Bayes\n",
      "\t mean score: 0.42037037037037034\n",
      "\n",
      "LogReg\n",
      "\t mean score: 0.5662962962962962\n",
      "\n",
      "KNN\n",
      "\t mean score: 0.4614814814814815\n",
      "count: 1\n",
      "total number of predictions: 270\n",
      "count: 3\n",
      "total number of predictions: 270\n",
      "count: 3\n",
      "total number of predictions: 270\n",
      "count: 6\n",
      "total number of predictions: 270\n",
      "count: 2\n",
      "total number of predictions: 270\n",
      "count: 2\n",
      "total number of predictions: 270\n",
      "count: 4\n",
      "total number of predictions: 270\n",
      "count: 4\n",
      "total number of predictions: 270\n",
      "count: 2\n",
      "total number of predictions: 270\n",
      "count: 2\n",
      "total number of predictions: 270\n",
      "\n",
      "Ensemble Predictor\n",
      "\t mean score: 0.5211111111111111\n"
     ]
    }
   ],
   "source": [
    "cross_validate(df['Category'], df)"
   ]
  },
  {
   "cell_type": "code",
   "execution_count": 84,
   "metadata": {
    "collapsed": false,
    "scrolled": true
   },
   "outputs": [],
   "source": [
    "test_df = get_test_data()\n",
    "test_df = add_features(test_df)"
   ]
  },
  {
   "cell_type": "code",
   "execution_count": 110,
   "metadata": {
    "collapsed": false
   },
   "outputs": [
    {
     "name": "stdout",
     "output_type": "stream",
     "text": [
      "count: 40\n",
      "total number of predictions: 1874\n"
     ]
    }
   ],
   "source": [
    "predictions = ensemble_predictor(df, test_df)"
   ]
  },
  {
   "cell_type": "code",
   "execution_count": null,
   "metadata": {
    "collapsed": true
   },
   "outputs": [],
   "source": []
  },
  {
   "cell_type": "code",
   "execution_count": 111,
   "metadata": {
    "collapsed": false
   },
   "outputs": [],
   "source": [
    "import csv\n",
    "with open('submission4.csv', 'w') as f:\n",
    "    writer = csv.writer(f)\n",
    "    writer.writerow(['ID', 'Category'])\n",
    "    for i, p in enumerate(predictions):\n",
    "        writer.writerow([i + 1, p])"
   ]
  },
  {
   "cell_type": "code",
   "execution_count": null,
   "metadata": {
    "collapsed": true
   },
   "outputs": [],
   "source": []
  }
 ],
 "metadata": {
  "kernelspec": {
   "display_name": "Python 3",
   "language": "python",
   "name": "python3"
  },
  "language_info": {
   "codemirror_mode": {
    "name": "ipython",
    "version": 3
   },
   "file_extension": ".py",
   "mimetype": "text/x-python",
   "name": "python",
   "nbconvert_exporter": "python",
   "pygments_lexer": "ipython3",
   "version": "3.3.5"
  }
 },
 "nbformat": 4,
 "nbformat_minor": 0
}
